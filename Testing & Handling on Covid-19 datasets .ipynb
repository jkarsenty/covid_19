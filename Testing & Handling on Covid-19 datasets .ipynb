{
 "cells": [
  {
   "cell_type": "markdown",
   "metadata": {
    "colab_type": "text",
    "id": "2fBysVPKqBPz"
   },
   "source": [
    "# Librairies"
   ]
  },
  {
   "cell_type": "code",
   "execution_count": 79,
   "metadata": {
    "colab": {},
    "colab_type": "code",
    "id": "vhUHRMjVqdlb"
   },
   "outputs": [],
   "source": [
    "from datetime import datetime\n",
    "from collections import Counter\n",
    "import pandas as pd\n",
    "import matplotlib.pyplot as plt\n",
    "import numpy as np\n",
    "from keras.models import Model\n",
    "from keras.layers import Input, Dense, LSTM, Dropout\n",
    "from keras.optimizers import Adam\n",
    "from keras.callbacks import EarlyStopping\n",
    "import tensorflow as tf\n",
    "from sklearn import preprocessing"
   ]
  },
  {
   "cell_type": "markdown",
   "metadata": {
    "colab_type": "text",
    "id": "MJ9x_yHfqGqB"
   },
   "source": [
    "# Files paths"
   ]
  },
  {
   "cell_type": "code",
   "execution_count": 80,
   "metadata": {
    "colab": {},
    "colab_type": "code",
    "id": "0OkNtYd7rok6"
   },
   "outputs": [],
   "source": [
    "confirmed_path = \"data/time_series_covid19_confirmed_global.csv\"\n",
    "deaths_path =  \"data/time_series_covid19_deaths_global.csv\"\n",
    "recovered_path = \"data/time_series_covid19_recovered_global.csv\""
   ]
  },
  {
   "cell_type": "markdown",
   "metadata": {
    "colab_type": "text",
    "id": "jJLFajoWqMNA"
   },
   "source": [
    "# Read data"
   ]
  },
  {
   "cell_type": "code",
   "execution_count": 81,
   "metadata": {
    "colab": {},
    "colab_type": "code",
    "id": "MUwky4e3r6iF"
   },
   "outputs": [],
   "source": [
    "confirmed_data = pd.read_csv(confirmed_path)\n",
    "deaths_data = pd.read_csv(deaths_path)\n",
    "recovered_data = pd.read_csv(recovered_path)"
   ]
  },
  {
   "cell_type": "code",
   "execution_count": 82,
   "metadata": {
    "colab": {
     "base_uri": "https://localhost:8080/",
     "height": 253
    },
    "colab_type": "code",
    "id": "0FWIw8Pcsei-",
    "outputId": "9da92aef-8a72-4952-a89a-4c35d251c017"
   },
   "outputs": [
    {
     "data": {
      "text/html": [
       "<div>\n",
       "<style scoped>\n",
       "    .dataframe tbody tr th:only-of-type {\n",
       "        vertical-align: middle;\n",
       "    }\n",
       "\n",
       "    .dataframe tbody tr th {\n",
       "        vertical-align: top;\n",
       "    }\n",
       "\n",
       "    .dataframe thead th {\n",
       "        text-align: right;\n",
       "    }\n",
       "</style>\n",
       "<table border=\"1\" class=\"dataframe\">\n",
       "  <thead>\n",
       "    <tr style=\"text-align: right;\">\n",
       "      <th></th>\n",
       "      <th>Province/State</th>\n",
       "      <th>Country/Region</th>\n",
       "      <th>Lat</th>\n",
       "      <th>Long</th>\n",
       "      <th>1/22/20</th>\n",
       "      <th>1/23/20</th>\n",
       "      <th>1/24/20</th>\n",
       "      <th>1/25/20</th>\n",
       "      <th>1/26/20</th>\n",
       "      <th>1/27/20</th>\n",
       "      <th>...</th>\n",
       "      <th>4/30/20</th>\n",
       "      <th>5/1/20</th>\n",
       "      <th>5/2/20</th>\n",
       "      <th>5/3/20</th>\n",
       "      <th>5/4/20</th>\n",
       "      <th>5/5/20</th>\n",
       "      <th>5/6/20</th>\n",
       "      <th>5/7/20</th>\n",
       "      <th>5/8/20</th>\n",
       "      <th>5/9/20</th>\n",
       "    </tr>\n",
       "  </thead>\n",
       "  <tbody>\n",
       "    <tr>\n",
       "      <td>0</td>\n",
       "      <td>NaN</td>\n",
       "      <td>Afghanistan</td>\n",
       "      <td>33.0000</td>\n",
       "      <td>65.0000</td>\n",
       "      <td>0</td>\n",
       "      <td>0</td>\n",
       "      <td>0</td>\n",
       "      <td>0</td>\n",
       "      <td>0</td>\n",
       "      <td>0</td>\n",
       "      <td>...</td>\n",
       "      <td>2171</td>\n",
       "      <td>2335</td>\n",
       "      <td>2469</td>\n",
       "      <td>2704</td>\n",
       "      <td>2894</td>\n",
       "      <td>3224</td>\n",
       "      <td>3392</td>\n",
       "      <td>3563</td>\n",
       "      <td>3778</td>\n",
       "      <td>4033</td>\n",
       "    </tr>\n",
       "    <tr>\n",
       "      <td>1</td>\n",
       "      <td>NaN</td>\n",
       "      <td>Albania</td>\n",
       "      <td>41.1533</td>\n",
       "      <td>20.1683</td>\n",
       "      <td>0</td>\n",
       "      <td>0</td>\n",
       "      <td>0</td>\n",
       "      <td>0</td>\n",
       "      <td>0</td>\n",
       "      <td>0</td>\n",
       "      <td>...</td>\n",
       "      <td>773</td>\n",
       "      <td>782</td>\n",
       "      <td>789</td>\n",
       "      <td>795</td>\n",
       "      <td>803</td>\n",
       "      <td>820</td>\n",
       "      <td>832</td>\n",
       "      <td>842</td>\n",
       "      <td>850</td>\n",
       "      <td>856</td>\n",
       "    </tr>\n",
       "    <tr>\n",
       "      <td>2</td>\n",
       "      <td>NaN</td>\n",
       "      <td>Algeria</td>\n",
       "      <td>28.0339</td>\n",
       "      <td>1.6596</td>\n",
       "      <td>0</td>\n",
       "      <td>0</td>\n",
       "      <td>0</td>\n",
       "      <td>0</td>\n",
       "      <td>0</td>\n",
       "      <td>0</td>\n",
       "      <td>...</td>\n",
       "      <td>4006</td>\n",
       "      <td>4154</td>\n",
       "      <td>4295</td>\n",
       "      <td>4474</td>\n",
       "      <td>4648</td>\n",
       "      <td>4838</td>\n",
       "      <td>4997</td>\n",
       "      <td>5182</td>\n",
       "      <td>5369</td>\n",
       "      <td>5558</td>\n",
       "    </tr>\n",
       "    <tr>\n",
       "      <td>3</td>\n",
       "      <td>NaN</td>\n",
       "      <td>Andorra</td>\n",
       "      <td>42.5063</td>\n",
       "      <td>1.5218</td>\n",
       "      <td>0</td>\n",
       "      <td>0</td>\n",
       "      <td>0</td>\n",
       "      <td>0</td>\n",
       "      <td>0</td>\n",
       "      <td>0</td>\n",
       "      <td>...</td>\n",
       "      <td>745</td>\n",
       "      <td>745</td>\n",
       "      <td>747</td>\n",
       "      <td>748</td>\n",
       "      <td>750</td>\n",
       "      <td>751</td>\n",
       "      <td>751</td>\n",
       "      <td>752</td>\n",
       "      <td>752</td>\n",
       "      <td>754</td>\n",
       "    </tr>\n",
       "    <tr>\n",
       "      <td>4</td>\n",
       "      <td>NaN</td>\n",
       "      <td>Angola</td>\n",
       "      <td>-11.2027</td>\n",
       "      <td>17.8739</td>\n",
       "      <td>0</td>\n",
       "      <td>0</td>\n",
       "      <td>0</td>\n",
       "      <td>0</td>\n",
       "      <td>0</td>\n",
       "      <td>0</td>\n",
       "      <td>...</td>\n",
       "      <td>27</td>\n",
       "      <td>30</td>\n",
       "      <td>35</td>\n",
       "      <td>35</td>\n",
       "      <td>35</td>\n",
       "      <td>36</td>\n",
       "      <td>36</td>\n",
       "      <td>36</td>\n",
       "      <td>43</td>\n",
       "      <td>43</td>\n",
       "    </tr>\n",
       "  </tbody>\n",
       "</table>\n",
       "<p>5 rows × 113 columns</p>\n",
       "</div>"
      ],
      "text/plain": [
       "  Province/State Country/Region      Lat     Long  1/22/20  1/23/20  1/24/20  \\\n",
       "0            NaN    Afghanistan  33.0000  65.0000        0        0        0   \n",
       "1            NaN        Albania  41.1533  20.1683        0        0        0   \n",
       "2            NaN        Algeria  28.0339   1.6596        0        0        0   \n",
       "3            NaN        Andorra  42.5063   1.5218        0        0        0   \n",
       "4            NaN         Angola -11.2027  17.8739        0        0        0   \n",
       "\n",
       "   1/25/20  1/26/20  1/27/20  ...  4/30/20  5/1/20  5/2/20  5/3/20  5/4/20  \\\n",
       "0        0        0        0  ...     2171    2335    2469    2704    2894   \n",
       "1        0        0        0  ...      773     782     789     795     803   \n",
       "2        0        0        0  ...     4006    4154    4295    4474    4648   \n",
       "3        0        0        0  ...      745     745     747     748     750   \n",
       "4        0        0        0  ...       27      30      35      35      35   \n",
       "\n",
       "   5/5/20  5/6/20  5/7/20  5/8/20  5/9/20  \n",
       "0    3224    3392    3563    3778    4033  \n",
       "1     820     832     842     850     856  \n",
       "2    4838    4997    5182    5369    5558  \n",
       "3     751     751     752     752     754  \n",
       "4      36      36      36      43      43  \n",
       "\n",
       "[5 rows x 113 columns]"
      ]
     },
     "execution_count": 82,
     "metadata": {},
     "output_type": "execute_result"
    }
   ],
   "source": [
    "confirmed_data.head(5)"
   ]
  },
  {
   "cell_type": "code",
   "execution_count": 83,
   "metadata": {
    "colab": {
     "base_uri": "https://localhost:8080/",
     "height": 346
    },
    "colab_type": "code",
    "id": "c_QKvuvUslVk",
    "outputId": "241abfc2-2f36-4d16-e68a-b165d19c7900"
   },
   "outputs": [
    {
     "data": {
      "text/html": [
       "<div>\n",
       "<style scoped>\n",
       "    .dataframe tbody tr th:only-of-type {\n",
       "        vertical-align: middle;\n",
       "    }\n",
       "\n",
       "    .dataframe tbody tr th {\n",
       "        vertical-align: top;\n",
       "    }\n",
       "\n",
       "    .dataframe thead th {\n",
       "        text-align: right;\n",
       "    }\n",
       "</style>\n",
       "<table border=\"1\" class=\"dataframe\">\n",
       "  <thead>\n",
       "    <tr style=\"text-align: right;\">\n",
       "      <th></th>\n",
       "      <th>Lat</th>\n",
       "      <th>Long</th>\n",
       "      <th>1/22/20</th>\n",
       "      <th>1/23/20</th>\n",
       "      <th>1/24/20</th>\n",
       "      <th>1/25/20</th>\n",
       "      <th>1/26/20</th>\n",
       "      <th>1/27/20</th>\n",
       "      <th>1/28/20</th>\n",
       "      <th>1/29/20</th>\n",
       "      <th>...</th>\n",
       "      <th>4/30/20</th>\n",
       "      <th>5/1/20</th>\n",
       "      <th>5/2/20</th>\n",
       "      <th>5/3/20</th>\n",
       "      <th>5/4/20</th>\n",
       "      <th>5/5/20</th>\n",
       "      <th>5/6/20</th>\n",
       "      <th>5/7/20</th>\n",
       "      <th>5/8/20</th>\n",
       "      <th>5/9/20</th>\n",
       "    </tr>\n",
       "  </thead>\n",
       "  <tbody>\n",
       "    <tr>\n",
       "      <td>count</td>\n",
       "      <td>266.000000</td>\n",
       "      <td>266.000000</td>\n",
       "      <td>266.000000</td>\n",
       "      <td>266.000000</td>\n",
       "      <td>266.000000</td>\n",
       "      <td>266.000000</td>\n",
       "      <td>266.000000</td>\n",
       "      <td>266.000000</td>\n",
       "      <td>266.000000</td>\n",
       "      <td>266.000000</td>\n",
       "      <td>...</td>\n",
       "      <td>2.660000e+02</td>\n",
       "      <td>2.660000e+02</td>\n",
       "      <td>2.660000e+02</td>\n",
       "      <td>2.660000e+02</td>\n",
       "      <td>2.660000e+02</td>\n",
       "      <td>2.660000e+02</td>\n",
       "      <td>2.660000e+02</td>\n",
       "      <td>2.660000e+02</td>\n",
       "      <td>2.660000e+02</td>\n",
       "      <td>2.660000e+02</td>\n",
       "    </tr>\n",
       "    <tr>\n",
       "      <td>mean</td>\n",
       "      <td>21.259359</td>\n",
       "      <td>22.432499</td>\n",
       "      <td>2.086466</td>\n",
       "      <td>2.458647</td>\n",
       "      <td>3.537594</td>\n",
       "      <td>5.390977</td>\n",
       "      <td>7.962406</td>\n",
       "      <td>11.003759</td>\n",
       "      <td>20.969925</td>\n",
       "      <td>23.180451</td>\n",
       "      <td>...</td>\n",
       "      <td>1.224402e+04</td>\n",
       "      <td>1.257059e+04</td>\n",
       "      <td>1.288565e+04</td>\n",
       "      <td>1.318319e+04</td>\n",
       "      <td>1.347013e+04</td>\n",
       "      <td>1.376952e+04</td>\n",
       "      <td>1.412056e+04</td>\n",
       "      <td>1.445759e+04</td>\n",
       "      <td>1.480475e+04</td>\n",
       "      <td>1.512785e+04</td>\n",
       "    </tr>\n",
       "    <tr>\n",
       "      <td>std</td>\n",
       "      <td>24.747943</td>\n",
       "      <td>70.478908</td>\n",
       "      <td>27.279200</td>\n",
       "      <td>27.377862</td>\n",
       "      <td>34.083035</td>\n",
       "      <td>47.434934</td>\n",
       "      <td>66.289178</td>\n",
       "      <td>89.313757</td>\n",
       "      <td>219.187744</td>\n",
       "      <td>220.524977</td>\n",
       "      <td>...</td>\n",
       "      <td>7.102976e+04</td>\n",
       "      <td>7.311436e+04</td>\n",
       "      <td>7.495782e+04</td>\n",
       "      <td>7.657327e+04</td>\n",
       "      <td>7.801568e+04</td>\n",
       "      <td>7.957189e+04</td>\n",
       "      <td>8.125646e+04</td>\n",
       "      <td>8.306894e+04</td>\n",
       "      <td>8.484777e+04</td>\n",
       "      <td>8.652542e+04</td>\n",
       "    </tr>\n",
       "    <tr>\n",
       "      <td>min</td>\n",
       "      <td>-51.796300</td>\n",
       "      <td>-135.000000</td>\n",
       "      <td>0.000000</td>\n",
       "      <td>0.000000</td>\n",
       "      <td>0.000000</td>\n",
       "      <td>0.000000</td>\n",
       "      <td>0.000000</td>\n",
       "      <td>0.000000</td>\n",
       "      <td>0.000000</td>\n",
       "      <td>0.000000</td>\n",
       "      <td>...</td>\n",
       "      <td>0.000000e+00</td>\n",
       "      <td>0.000000e+00</td>\n",
       "      <td>0.000000e+00</td>\n",
       "      <td>0.000000e+00</td>\n",
       "      <td>0.000000e+00</td>\n",
       "      <td>0.000000e+00</td>\n",
       "      <td>0.000000e+00</td>\n",
       "      <td>0.000000e+00</td>\n",
       "      <td>0.000000e+00</td>\n",
       "      <td>0.000000e+00</td>\n",
       "    </tr>\n",
       "    <tr>\n",
       "      <td>25%</td>\n",
       "      <td>6.907750</td>\n",
       "      <td>-18.093125</td>\n",
       "      <td>0.000000</td>\n",
       "      <td>0.000000</td>\n",
       "      <td>0.000000</td>\n",
       "      <td>0.000000</td>\n",
       "      <td>0.000000</td>\n",
       "      <td>0.000000</td>\n",
       "      <td>0.000000</td>\n",
       "      <td>0.000000</td>\n",
       "      <td>...</td>\n",
       "      <td>7.725000e+01</td>\n",
       "      <td>8.100000e+01</td>\n",
       "      <td>8.200000e+01</td>\n",
       "      <td>8.225000e+01</td>\n",
       "      <td>8.675000e+01</td>\n",
       "      <td>9.350000e+01</td>\n",
       "      <td>9.525000e+01</td>\n",
       "      <td>9.650000e+01</td>\n",
       "      <td>1.012500e+02</td>\n",
       "      <td>1.077500e+02</td>\n",
       "    </tr>\n",
       "    <tr>\n",
       "      <td>50%</td>\n",
       "      <td>23.488100</td>\n",
       "      <td>20.921188</td>\n",
       "      <td>0.000000</td>\n",
       "      <td>0.000000</td>\n",
       "      <td>0.000000</td>\n",
       "      <td>0.000000</td>\n",
       "      <td>0.000000</td>\n",
       "      <td>0.000000</td>\n",
       "      <td>0.000000</td>\n",
       "      <td>0.000000</td>\n",
       "      <td>...</td>\n",
       "      <td>4.665000e+02</td>\n",
       "      <td>4.855000e+02</td>\n",
       "      <td>4.995000e+02</td>\n",
       "      <td>5.085000e+02</td>\n",
       "      <td>5.425000e+02</td>\n",
       "      <td>5.480000e+02</td>\n",
       "      <td>5.560000e+02</td>\n",
       "      <td>5.625000e+02</td>\n",
       "      <td>5.860000e+02</td>\n",
       "      <td>6.190000e+02</td>\n",
       "    </tr>\n",
       "    <tr>\n",
       "      <td>75%</td>\n",
       "      <td>41.143200</td>\n",
       "      <td>77.191525</td>\n",
       "      <td>0.000000</td>\n",
       "      <td>0.000000</td>\n",
       "      <td>0.000000</td>\n",
       "      <td>0.000000</td>\n",
       "      <td>0.000000</td>\n",
       "      <td>0.000000</td>\n",
       "      <td>0.000000</td>\n",
       "      <td>0.000000</td>\n",
       "      <td>...</td>\n",
       "      <td>2.105250e+03</td>\n",
       "      <td>2.165750e+03</td>\n",
       "      <td>2.359250e+03</td>\n",
       "      <td>2.515000e+03</td>\n",
       "      <td>2.635750e+03</td>\n",
       "      <td>2.699750e+03</td>\n",
       "      <td>2.872750e+03</td>\n",
       "      <td>2.939500e+03</td>\n",
       "      <td>3.021750e+03</td>\n",
       "      <td>3.040750e+03</td>\n",
       "    </tr>\n",
       "    <tr>\n",
       "      <td>max</td>\n",
       "      <td>71.706900</td>\n",
       "      <td>178.065000</td>\n",
       "      <td>444.000000</td>\n",
       "      <td>444.000000</td>\n",
       "      <td>549.000000</td>\n",
       "      <td>761.000000</td>\n",
       "      <td>1058.000000</td>\n",
       "      <td>1423.000000</td>\n",
       "      <td>3554.000000</td>\n",
       "      <td>3554.000000</td>\n",
       "      <td>...</td>\n",
       "      <td>1.069424e+06</td>\n",
       "      <td>1.103461e+06</td>\n",
       "      <td>1.132539e+06</td>\n",
       "      <td>1.158040e+06</td>\n",
       "      <td>1.180375e+06</td>\n",
       "      <td>1.204351e+06</td>\n",
       "      <td>1.229331e+06</td>\n",
       "      <td>1.257023e+06</td>\n",
       "      <td>1.283929e+06</td>\n",
       "      <td>1.309550e+06</td>\n",
       "    </tr>\n",
       "  </tbody>\n",
       "</table>\n",
       "<p>8 rows × 111 columns</p>\n",
       "</div>"
      ],
      "text/plain": [
       "              Lat        Long     1/22/20     1/23/20     1/24/20     1/25/20  \\\n",
       "count  266.000000  266.000000  266.000000  266.000000  266.000000  266.000000   \n",
       "mean    21.259359   22.432499    2.086466    2.458647    3.537594    5.390977   \n",
       "std     24.747943   70.478908   27.279200   27.377862   34.083035   47.434934   \n",
       "min    -51.796300 -135.000000    0.000000    0.000000    0.000000    0.000000   \n",
       "25%      6.907750  -18.093125    0.000000    0.000000    0.000000    0.000000   \n",
       "50%     23.488100   20.921188    0.000000    0.000000    0.000000    0.000000   \n",
       "75%     41.143200   77.191525    0.000000    0.000000    0.000000    0.000000   \n",
       "max     71.706900  178.065000  444.000000  444.000000  549.000000  761.000000   \n",
       "\n",
       "           1/26/20      1/27/20      1/28/20      1/29/20  ...       4/30/20  \\\n",
       "count   266.000000   266.000000   266.000000   266.000000  ...  2.660000e+02   \n",
       "mean      7.962406    11.003759    20.969925    23.180451  ...  1.224402e+04   \n",
       "std      66.289178    89.313757   219.187744   220.524977  ...  7.102976e+04   \n",
       "min       0.000000     0.000000     0.000000     0.000000  ...  0.000000e+00   \n",
       "25%       0.000000     0.000000     0.000000     0.000000  ...  7.725000e+01   \n",
       "50%       0.000000     0.000000     0.000000     0.000000  ...  4.665000e+02   \n",
       "75%       0.000000     0.000000     0.000000     0.000000  ...  2.105250e+03   \n",
       "max    1058.000000  1423.000000  3554.000000  3554.000000  ...  1.069424e+06   \n",
       "\n",
       "             5/1/20        5/2/20        5/3/20        5/4/20        5/5/20  \\\n",
       "count  2.660000e+02  2.660000e+02  2.660000e+02  2.660000e+02  2.660000e+02   \n",
       "mean   1.257059e+04  1.288565e+04  1.318319e+04  1.347013e+04  1.376952e+04   \n",
       "std    7.311436e+04  7.495782e+04  7.657327e+04  7.801568e+04  7.957189e+04   \n",
       "min    0.000000e+00  0.000000e+00  0.000000e+00  0.000000e+00  0.000000e+00   \n",
       "25%    8.100000e+01  8.200000e+01  8.225000e+01  8.675000e+01  9.350000e+01   \n",
       "50%    4.855000e+02  4.995000e+02  5.085000e+02  5.425000e+02  5.480000e+02   \n",
       "75%    2.165750e+03  2.359250e+03  2.515000e+03  2.635750e+03  2.699750e+03   \n",
       "max    1.103461e+06  1.132539e+06  1.158040e+06  1.180375e+06  1.204351e+06   \n",
       "\n",
       "             5/6/20        5/7/20        5/8/20        5/9/20  \n",
       "count  2.660000e+02  2.660000e+02  2.660000e+02  2.660000e+02  \n",
       "mean   1.412056e+04  1.445759e+04  1.480475e+04  1.512785e+04  \n",
       "std    8.125646e+04  8.306894e+04  8.484777e+04  8.652542e+04  \n",
       "min    0.000000e+00  0.000000e+00  0.000000e+00  0.000000e+00  \n",
       "25%    9.525000e+01  9.650000e+01  1.012500e+02  1.077500e+02  \n",
       "50%    5.560000e+02  5.625000e+02  5.860000e+02  6.190000e+02  \n",
       "75%    2.872750e+03  2.939500e+03  3.021750e+03  3.040750e+03  \n",
       "max    1.229331e+06  1.257023e+06  1.283929e+06  1.309550e+06  \n",
       "\n",
       "[8 rows x 111 columns]"
      ]
     },
     "execution_count": 83,
     "metadata": {},
     "output_type": "execute_result"
    }
   ],
   "source": [
    "confirmed_data.describe()"
   ]
  },
  {
   "cell_type": "code",
   "execution_count": 84,
   "metadata": {
    "colab": {
     "base_uri": "https://localhost:8080/",
     "height": 68
    },
    "colab_type": "code",
    "id": "E5mNqRGespdO",
    "outputId": "71b5e864-9d1a-4668-c3b6-8074378a117a"
   },
   "outputs": [
    {
     "name": "stdout",
     "output_type": "stream",
     "text": [
      "(266, 113)\n",
      "(266, 113)\n",
      "(252, 113)\n"
     ]
    }
   ],
   "source": [
    "print(confirmed_data.shape)   #(266, 118)\n",
    "print(deaths_data.shape)      #(266, 118)\n",
    "print(recovered_data.shape)   #(253, 118)"
   ]
  },
  {
   "cell_type": "code",
   "execution_count": 85,
   "metadata": {
    "colab": {
     "base_uri": "https://localhost:8080/",
     "height": 119
    },
    "colab_type": "code",
    "id": "fccARtOKtnTZ",
    "outputId": "8139b608-cc72-44b3-fc01-888cc59de644"
   },
   "outputs": [
    {
     "data": {
      "text/plain": [
       "Index(['Province/State', 'Country/Region', 'Lat', 'Long', '1/22/20', '1/23/20',\n",
       "       '1/24/20', '1/25/20', '1/26/20', '1/27/20',\n",
       "       ...\n",
       "       '4/30/20', '5/1/20', '5/2/20', '5/3/20', '5/4/20', '5/5/20', '5/6/20',\n",
       "       '5/7/20', '5/8/20', '5/9/20'],\n",
       "      dtype='object', length=113)"
      ]
     },
     "execution_count": 85,
     "metadata": {},
     "output_type": "execute_result"
    }
   ],
   "source": [
    "# columns name\n",
    "assert confirmed_data.columns.all() == deaths_data.columns.all()\n",
    "assert recovered_data.columns.all() == confirmed_data.columns.all()\n",
    "columns_name = confirmed_data.columns\n",
    "columns_name"
   ]
  },
  {
   "cell_type": "code",
   "execution_count": 86,
   "metadata": {
    "colab": {
     "base_uri": "https://localhost:8080/",
     "height": 51
    },
    "colab_type": "code",
    "id": "5ApLAcIGwU6x",
    "outputId": "7406a834-ea75-4349-a1ec-00e33179d1a4"
   },
   "outputs": [
    {
     "name": "stdout",
     "output_type": "stream",
     "text": [
      "109 dates \n",
      "from 1/22/20 to 5/9/20\n"
     ]
    }
   ],
   "source": [
    "dates = columns_name[4:]\n",
    "print(len(dates),'dates','\\nfrom',dates[0],'to',dates[-1])"
   ]
  },
  {
   "cell_type": "markdown",
   "metadata": {
    "colab_type": "text",
    "id": "y3R9fDL0qNVB"
   },
   "source": [
    "# Data row index"
   ]
  },
  {
   "cell_type": "code",
   "execution_count": 87,
   "metadata": {
    "colab": {
     "base_uri": "https://localhost:8080/",
     "height": 51
    },
    "colab_type": "code",
    "id": "IP7I02KgtfwA",
    "outputId": "c61c7e18-3b29-4efa-ec49-2e7001ae976d"
   },
   "outputs": [
    {
     "name": "stdout",
     "output_type": "stream",
     "text": [
      "266 pays\n",
      "187 uniques pays\n"
     ]
    }
   ],
   "source": [
    "## on a les pays en row index\n",
    "row_index = confirmed_data['Country/Region'].to_list()\n",
    "#On a des doublons donc il faudra surement traiter nos données par des groupby.\n",
    "print(len(row_index),'pays')\n",
    "pays = np.unique(row_index)\n",
    "print(len(pays),'uniques pays')"
   ]
  },
  {
   "cell_type": "code",
   "execution_count": 88,
   "metadata": {
    "colab": {},
    "colab_type": "code",
    "id": "Z1A1k5HNxTmX"
   },
   "outputs": [],
   "source": [
    "## Recuperation des pays avec des Grouby en sommant\n",
    "\n",
    "def dataframe_wiht_unique_contries(dataframe):\n",
    "    '''we have doublons for the country because there are some Province\n",
    "    so we need a groupby countrie and sum to have same lenght in all our dataset'''\n",
    "\n",
    "    df = dataframe.groupby('Country/Region').sum().reset_index()\n",
    "    return df"
   ]
  },
  {
   "cell_type": "code",
   "execution_count": 89,
   "metadata": {
    "colab": {
     "base_uri": "https://localhost:8080/",
     "height": 68
    },
    "colab_type": "code",
    "id": "GeObcffKxf_w",
    "outputId": "b0dc9764-91c7-4f32-936f-3a1781bd94fb"
   },
   "outputs": [
    {
     "name": "stdout",
     "output_type": "stream",
     "text": [
      "(187, 112)\n",
      "(187, 112)\n",
      "(187, 112)\n"
     ]
    }
   ],
   "source": [
    "confirmed_df = dataframe_wiht_unique_contries(confirmed_data)\n",
    "deaths_df = dataframe_wiht_unique_contries(deaths_data)\n",
    "recovered_df = dataframe_wiht_unique_contries(recovered_data)\n",
    "\n",
    "print(confirmed_df.shape) #(188, 117)\n",
    "print(deaths_df.shape)    #(188, 117)\n",
    "print(recovered_df.shape) #(188, 117)"
   ]
  },
  {
   "cell_type": "code",
   "execution_count": 90,
   "metadata": {
    "colab": {
     "base_uri": "https://localhost:8080/",
     "height": 191
    },
    "colab_type": "code",
    "id": "lZP8dMET4tCI",
    "outputId": "a48d4cb6-e435-48e7-af4c-508517d58b49"
   },
   "outputs": [
    {
     "data": {
      "text/html": [
       "<div>\n",
       "<style scoped>\n",
       "    .dataframe tbody tr th:only-of-type {\n",
       "        vertical-align: middle;\n",
       "    }\n",
       "\n",
       "    .dataframe tbody tr th {\n",
       "        vertical-align: top;\n",
       "    }\n",
       "\n",
       "    .dataframe thead th {\n",
       "        text-align: right;\n",
       "    }\n",
       "</style>\n",
       "<table border=\"1\" class=\"dataframe\">\n",
       "  <thead>\n",
       "    <tr style=\"text-align: right;\">\n",
       "      <th></th>\n",
       "      <th>Country/Region</th>\n",
       "      <th>Lat</th>\n",
       "      <th>Long</th>\n",
       "      <th>1/22/20</th>\n",
       "      <th>1/23/20</th>\n",
       "      <th>1/24/20</th>\n",
       "      <th>1/25/20</th>\n",
       "      <th>1/26/20</th>\n",
       "      <th>1/27/20</th>\n",
       "      <th>1/28/20</th>\n",
       "      <th>...</th>\n",
       "      <th>4/30/20</th>\n",
       "      <th>5/1/20</th>\n",
       "      <th>5/2/20</th>\n",
       "      <th>5/3/20</th>\n",
       "      <th>5/4/20</th>\n",
       "      <th>5/5/20</th>\n",
       "      <th>5/6/20</th>\n",
       "      <th>5/7/20</th>\n",
       "      <th>5/8/20</th>\n",
       "      <th>5/9/20</th>\n",
       "    </tr>\n",
       "  </thead>\n",
       "  <tbody>\n",
       "    <tr>\n",
       "      <td>0</td>\n",
       "      <td>Afghanistan</td>\n",
       "      <td>33.0000</td>\n",
       "      <td>65.0000</td>\n",
       "      <td>0</td>\n",
       "      <td>0</td>\n",
       "      <td>0</td>\n",
       "      <td>0</td>\n",
       "      <td>0</td>\n",
       "      <td>0</td>\n",
       "      <td>0</td>\n",
       "      <td>...</td>\n",
       "      <td>2171</td>\n",
       "      <td>2335</td>\n",
       "      <td>2469</td>\n",
       "      <td>2704</td>\n",
       "      <td>2894</td>\n",
       "      <td>3224</td>\n",
       "      <td>3392</td>\n",
       "      <td>3563</td>\n",
       "      <td>3778</td>\n",
       "      <td>4033</td>\n",
       "    </tr>\n",
       "    <tr>\n",
       "      <td>1</td>\n",
       "      <td>Albania</td>\n",
       "      <td>41.1533</td>\n",
       "      <td>20.1683</td>\n",
       "      <td>0</td>\n",
       "      <td>0</td>\n",
       "      <td>0</td>\n",
       "      <td>0</td>\n",
       "      <td>0</td>\n",
       "      <td>0</td>\n",
       "      <td>0</td>\n",
       "      <td>...</td>\n",
       "      <td>773</td>\n",
       "      <td>782</td>\n",
       "      <td>789</td>\n",
       "      <td>795</td>\n",
       "      <td>803</td>\n",
       "      <td>820</td>\n",
       "      <td>832</td>\n",
       "      <td>842</td>\n",
       "      <td>850</td>\n",
       "      <td>856</td>\n",
       "    </tr>\n",
       "    <tr>\n",
       "      <td>2</td>\n",
       "      <td>Algeria</td>\n",
       "      <td>28.0339</td>\n",
       "      <td>1.6596</td>\n",
       "      <td>0</td>\n",
       "      <td>0</td>\n",
       "      <td>0</td>\n",
       "      <td>0</td>\n",
       "      <td>0</td>\n",
       "      <td>0</td>\n",
       "      <td>0</td>\n",
       "      <td>...</td>\n",
       "      <td>4006</td>\n",
       "      <td>4154</td>\n",
       "      <td>4295</td>\n",
       "      <td>4474</td>\n",
       "      <td>4648</td>\n",
       "      <td>4838</td>\n",
       "      <td>4997</td>\n",
       "      <td>5182</td>\n",
       "      <td>5369</td>\n",
       "      <td>5558</td>\n",
       "    </tr>\n",
       "  </tbody>\n",
       "</table>\n",
       "<p>3 rows × 112 columns</p>\n",
       "</div>"
      ],
      "text/plain": [
       "  Country/Region      Lat     Long  1/22/20  1/23/20  1/24/20  1/25/20  \\\n",
       "0    Afghanistan  33.0000  65.0000        0        0        0        0   \n",
       "1        Albania  41.1533  20.1683        0        0        0        0   \n",
       "2        Algeria  28.0339   1.6596        0        0        0        0   \n",
       "\n",
       "   1/26/20  1/27/20  1/28/20  ...  4/30/20  5/1/20  5/2/20  5/3/20  5/4/20  \\\n",
       "0        0        0        0  ...     2171    2335    2469    2704    2894   \n",
       "1        0        0        0  ...      773     782     789     795     803   \n",
       "2        0        0        0  ...     4006    4154    4295    4474    4648   \n",
       "\n",
       "   5/5/20  5/6/20  5/7/20  5/8/20  5/9/20  \n",
       "0    3224    3392    3563    3778    4033  \n",
       "1     820     832     842     850     856  \n",
       "2    4838    4997    5182    5369    5558  \n",
       "\n",
       "[3 rows x 112 columns]"
      ]
     },
     "execution_count": 90,
     "metadata": {},
     "output_type": "execute_result"
    }
   ],
   "source": [
    "confirmed_df.head(3)"
   ]
  },
  {
   "cell_type": "code",
   "execution_count": 91,
   "metadata": {
    "colab": {},
    "colab_type": "code",
    "id": "F7PYIScSxDQR"
   },
   "outputs": [],
   "source": [
    "## Garder uniquement les n pays avec le plus grands nombre de confirmed\n",
    "\n",
    "def recup_n_country_most_volumed(dataframe_cumul,n):\n",
    "    '''from the dataframe give us the n country with most volume'''\n",
    "\n",
    "    volume = dataframe_cumul.iloc[:,-1] #last columns of cumul dataframe so volume total\n",
    "    ind_most_vol = volume.argsort()[::-1] #list of index and reverse to have descending oreder\n",
    "    countries = dataframe_cumul['Country/Region'][ind_most_vol][:n]\n",
    "\n",
    "    return countries"
   ]
  },
  {
   "cell_type": "code",
   "execution_count": 92,
   "metadata": {
    "colab": {
     "base_uri": "https://localhost:8080/",
     "height": 255
    },
    "colab_type": "code",
    "id": "d2bsh531xI-A",
    "outputId": "245c760b-f7dd-4c3b-e68a-837b79668d28"
   },
   "outputs": [
    {
     "data": {
      "text/plain": [
       "173                US\n",
       "157             Spain\n",
       "85              Italy\n",
       "177    United Kingdom\n",
       "139            Russia\n",
       "62             France\n",
       "66            Germany\n",
       "23             Brazil\n",
       "172            Turkey\n",
       "81               Iran\n",
       "36              China\n",
       "32             Canada\n",
       "133              Peru\n",
       "Name: Country/Region, dtype: object"
      ]
     },
     "execution_count": 92,
     "metadata": {},
     "output_type": "execute_result"
    }
   ],
   "source": [
    "countries = recup_n_country_most_volumed(confirmed_df,13)\n",
    "countries"
   ]
  },
  {
   "cell_type": "markdown",
   "metadata": {
    "colab_type": "text",
    "id": "iqTwdwgUdReC"
   },
   "source": [
    "On ne garde que les 13 pays qui à la date du 1er mai 2020 comptaient le plus grand nombre de décès cumulé. Créez une variable country_set de type np.array qui contient le nom de ces 13 pays."
   ]
  },
  {
   "cell_type": "code",
   "execution_count": 93,
   "metadata": {
    "colab": {},
    "colab_type": "code",
    "id": "zjNHiu9ByGjn"
   },
   "outputs": [],
   "source": [
    "## Garder uniquement les n pays a une date precise\n",
    "\n",
    "def recup_n_country_most_at_date(dataframe,date,n=-1):\n",
    "    '''from the dataframe give us the n most countries at one date\n",
    "    if dataframe is cumul so it's most volumed at one date\n",
    "    if dataframe is daily so it's most cases at one date'''\n",
    "\n",
    "    # on teste le format des dates sur la derniere colonne \n",
    "    if isinstance(dataframe.columns[-1], str) and isinstance(date, str):\n",
    "        '''si les dates sont au format str'''\n",
    "        value_at_date = dataframe.loc[:,date]\n",
    "\n",
    "    elif isinstance(dataframe.columns[-1], pd.Timestamp) and isinstance(date,str):\n",
    "        '''si les dates sont au format datetime'''\n",
    "        date = datetime.strptime(date,\"%Y-%m-%d\")\n",
    "        value_at_date = dataframe.loc[:,date]\n",
    "\n",
    "    elif isinstance(date, int):\n",
    "        '''si on met un entier en tant que date'''\n",
    "        value_at_date = dataframe.iloc[:,date]\n",
    "\n",
    "    classement = value_at_date.argsort()[::-1] #classement index with most at top\n",
    "    countries = dataframe['Country/Region'][classement][:n]\n",
    "\n",
    "    return np.array(countries)"
   ]
  },
  {
   "cell_type": "code",
   "execution_count": 94,
   "metadata": {
    "colab": {
     "base_uri": "https://localhost:8080/",
     "height": 68
    },
    "colab_type": "code",
    "id": "eGXAcTady1ez",
    "outputId": "4c4a280c-365e-4a54-bce8-405654399c27"
   },
   "outputs": [
    {
     "data": {
      "text/plain": [
       "array(['US', 'Spain', 'Italy', 'United Kingdom', 'France', 'Germany',\n",
       "       'Turkey', 'Russia', 'Iran', 'Brazil', 'China', 'Canada', 'Belgium'],\n",
       "      dtype=object)"
      ]
     },
     "execution_count": 94,
     "metadata": {},
     "output_type": "execute_result"
    }
   ],
   "source": [
    "# la date est au format \"mois/jour/20\"\n",
    "country_set  = recup_n_country_most_at_date(confirmed_df,\"5/1/20\",13)\n",
    "country_set"
   ]
  },
  {
   "cell_type": "markdown",
   "metadata": {
    "colab_type": "text",
    "id": "9ztaUau_qTln"
   },
   "source": [
    "# Data columns index\n"
   ]
  },
  {
   "cell_type": "code",
   "execution_count": 95,
   "metadata": {
    "colab": {},
    "colab_type": "code",
    "id": "abTDRJfQulWy"
   },
   "outputs": [],
   "source": [
    "## On va generer un index temporel\n",
    "def generate_date_index(start,end):\n",
    "\n",
    "    '''from start & end in string format, give us a date_index between start and end'''\n",
    "    from datetime import datetime,date,time\n",
    "    import pandas as pd\n",
    "\n",
    "    t_min = datetime.strptime(start,\"%Y-%m-%d\")\n",
    "    t_max = datetime.strptime(end,\"%Y-%m-%d\")\n",
    "\n",
    "    #Generate date between start and end\n",
    "    date_index = pd.date_range(start=t_min, end=t_max) \n",
    "    date_index = [d for d in date_index] #each element is in Timestamp format\n",
    "\n",
    "    return date_index"
   ]
  },
  {
   "cell_type": "code",
   "execution_count": 96,
   "metadata": {
    "colab": {},
    "colab_type": "code",
    "id": "EiL-wyfpzbna"
   },
   "outputs": [],
   "source": [
    "date_index = generate_date_index('2020-01-22','2020-05-09')\n",
    "#date_index"
   ]
  },
  {
   "cell_type": "code",
   "execution_count": 97,
   "metadata": {
    "colab": {},
    "colab_type": "code",
    "id": "KiWAPndjzx_c"
   },
   "outputs": [],
   "source": [
    "## Renommer les colonnes via le date index\n",
    "\n",
    "def rename_date_columns(dataframe,date_index,ind_1rst_date_in_column=4):\n",
    "    '''from dataframe with date as string for some columns\n",
    "    rename those columns with date as Timestamp given by the date_index'''\n",
    "\n",
    "    dates = dataframe.columns[ind_1rst_date_in_column:] #list of date (format str)\n",
    "    col_mapping = {dates[i] : date_index[i] for i in range(len(date_index))}\n",
    "\n",
    "    dataframe.rename(columns=col_mapping, inplace=True)\n",
    "\n",
    "    return"
   ]
  },
  {
   "cell_type": "code",
   "execution_count": 98,
   "metadata": {
    "colab": {},
    "colab_type": "code",
    "id": "zQ8F_QD50A8s"
   },
   "outputs": [],
   "source": [
    "rename_date_columns(confirmed_df,date_index,3)\n",
    "rename_date_columns(deaths_df,date_index,3)\n",
    "rename_date_columns(recovered_df,date_index,3)"
   ]
  },
  {
   "cell_type": "markdown",
   "metadata": {
    "colab_type": "text",
    "id": "Hoh8PvRjqV3x"
   },
   "source": [
    "# Filtering data"
   ]
  },
  {
   "cell_type": "markdown",
   "metadata": {
    "colab_type": "text",
    "id": "kAzkXuRzdeEk"
   },
   "source": [
    "Filtrez les DataFrame confirmed_data, deat_data et recovered_data en ne conservant uniquement les données associées aux 13 pays concernés."
   ]
  },
  {
   "cell_type": "code",
   "execution_count": 99,
   "metadata": {
    "colab": {
     "base_uri": "https://localhost:8080/",
     "height": 225
    },
    "colab_type": "code",
    "id": "vuyn9rupziVP",
    "outputId": "0f6d120f-8feb-4c20-f11f-e2b497a988cc"
   },
   "outputs": [
    {
     "data": {
      "text/html": [
       "<div>\n",
       "<style scoped>\n",
       "    .dataframe tbody tr th:only-of-type {\n",
       "        vertical-align: middle;\n",
       "    }\n",
       "\n",
       "    .dataframe tbody tr th {\n",
       "        vertical-align: top;\n",
       "    }\n",
       "\n",
       "    .dataframe thead th {\n",
       "        text-align: right;\n",
       "    }\n",
       "</style>\n",
       "<table border=\"1\" class=\"dataframe\">\n",
       "  <thead>\n",
       "    <tr style=\"text-align: right;\">\n",
       "      <th></th>\n",
       "      <th>Country/Region</th>\n",
       "      <th>Lat</th>\n",
       "      <th>Long</th>\n",
       "      <th>2020-01-22 00:00:00</th>\n",
       "      <th>2020-01-23 00:00:00</th>\n",
       "      <th>2020-01-24 00:00:00</th>\n",
       "      <th>2020-01-25 00:00:00</th>\n",
       "      <th>2020-01-26 00:00:00</th>\n",
       "      <th>2020-01-27 00:00:00</th>\n",
       "      <th>2020-01-28 00:00:00</th>\n",
       "      <th>...</th>\n",
       "      <th>2020-04-30 00:00:00</th>\n",
       "      <th>2020-05-01 00:00:00</th>\n",
       "      <th>2020-05-02 00:00:00</th>\n",
       "      <th>2020-05-03 00:00:00</th>\n",
       "      <th>2020-05-04 00:00:00</th>\n",
       "      <th>2020-05-05 00:00:00</th>\n",
       "      <th>2020-05-06 00:00:00</th>\n",
       "      <th>2020-05-07 00:00:00</th>\n",
       "      <th>2020-05-08 00:00:00</th>\n",
       "      <th>2020-05-09 00:00:00</th>\n",
       "    </tr>\n",
       "  </thead>\n",
       "  <tbody>\n",
       "    <tr>\n",
       "      <td>16</td>\n",
       "      <td>Belgium</td>\n",
       "      <td>50.8333</td>\n",
       "      <td>4.0000</td>\n",
       "      <td>0</td>\n",
       "      <td>0</td>\n",
       "      <td>0</td>\n",
       "      <td>0</td>\n",
       "      <td>0</td>\n",
       "      <td>0</td>\n",
       "      <td>0</td>\n",
       "      <td>...</td>\n",
       "      <td>48519</td>\n",
       "      <td>49032</td>\n",
       "      <td>49517</td>\n",
       "      <td>49906</td>\n",
       "      <td>50267</td>\n",
       "      <td>50509</td>\n",
       "      <td>50781</td>\n",
       "      <td>51420</td>\n",
       "      <td>52011</td>\n",
       "      <td>52596</td>\n",
       "    </tr>\n",
       "    <tr>\n",
       "      <td>23</td>\n",
       "      <td>Brazil</td>\n",
       "      <td>-14.2350</td>\n",
       "      <td>-51.9253</td>\n",
       "      <td>0</td>\n",
       "      <td>0</td>\n",
       "      <td>0</td>\n",
       "      <td>0</td>\n",
       "      <td>0</td>\n",
       "      <td>0</td>\n",
       "      <td>0</td>\n",
       "      <td>...</td>\n",
       "      <td>87187</td>\n",
       "      <td>92202</td>\n",
       "      <td>97100</td>\n",
       "      <td>101826</td>\n",
       "      <td>108620</td>\n",
       "      <td>115455</td>\n",
       "      <td>126611</td>\n",
       "      <td>135773</td>\n",
       "      <td>146894</td>\n",
       "      <td>156061</td>\n",
       "    </tr>\n",
       "    <tr>\n",
       "      <td>32</td>\n",
       "      <td>Canada</td>\n",
       "      <td>671.7607</td>\n",
       "      <td>-1237.6289</td>\n",
       "      <td>0</td>\n",
       "      <td>0</td>\n",
       "      <td>0</td>\n",
       "      <td>0</td>\n",
       "      <td>1</td>\n",
       "      <td>1</td>\n",
       "      <td>2</td>\n",
       "      <td>...</td>\n",
       "      <td>54457</td>\n",
       "      <td>56343</td>\n",
       "      <td>57926</td>\n",
       "      <td>60504</td>\n",
       "      <td>61957</td>\n",
       "      <td>63215</td>\n",
       "      <td>64694</td>\n",
       "      <td>66201</td>\n",
       "      <td>67674</td>\n",
       "      <td>68918</td>\n",
       "    </tr>\n",
       "  </tbody>\n",
       "</table>\n",
       "<p>3 rows × 112 columns</p>\n",
       "</div>"
      ],
      "text/plain": [
       "   Country/Region       Lat       Long  2020-01-22 00:00:00  \\\n",
       "16        Belgium   50.8333     4.0000                    0   \n",
       "23         Brazil  -14.2350   -51.9253                    0   \n",
       "32         Canada  671.7607 -1237.6289                    0   \n",
       "\n",
       "    2020-01-23 00:00:00  2020-01-24 00:00:00  2020-01-25 00:00:00  \\\n",
       "16                    0                    0                    0   \n",
       "23                    0                    0                    0   \n",
       "32                    0                    0                    0   \n",
       "\n",
       "    2020-01-26 00:00:00  2020-01-27 00:00:00  2020-01-28 00:00:00  ...  \\\n",
       "16                    0                    0                    0  ...   \n",
       "23                    0                    0                    0  ...   \n",
       "32                    1                    1                    2  ...   \n",
       "\n",
       "    2020-04-30 00:00:00  2020-05-01 00:00:00  2020-05-02 00:00:00  \\\n",
       "16                48519                49032                49517   \n",
       "23                87187                92202                97100   \n",
       "32                54457                56343                57926   \n",
       "\n",
       "    2020-05-03 00:00:00  2020-05-04 00:00:00  2020-05-05 00:00:00  \\\n",
       "16                49906                50267                50509   \n",
       "23               101826               108620               115455   \n",
       "32                60504                61957                63215   \n",
       "\n",
       "    2020-05-06 00:00:00  2020-05-07 00:00:00  2020-05-08 00:00:00  \\\n",
       "16                50781                51420                52011   \n",
       "23               126611               135773               146894   \n",
       "32                64694                66201                67674   \n",
       "\n",
       "    2020-05-09 00:00:00  \n",
       "16                52596  \n",
       "23               156061  \n",
       "32                68918  \n",
       "\n",
       "[3 rows x 112 columns]"
      ]
     },
     "execution_count": 99,
     "metadata": {},
     "output_type": "execute_result"
    }
   ],
   "source": [
    "# country_set nous donne la liste de n pays à garder\n",
    "confirmed = confirmed_df[confirmed_df['Country/Region'].isin(country_set)]\n",
    "deaths = deaths_df[deaths_df['Country/Region'].isin(country_set)]\n",
    "recovered = recovered_df[recovered_df['Country/Region'].isin(country_set)]\n",
    "confirmed.head(3)"
   ]
  },
  {
   "cell_type": "code",
   "execution_count": 100,
   "metadata": {
    "colab": {},
    "colab_type": "code",
    "id": "-k4hokv1Cmrg"
   },
   "outputs": [],
   "source": [
    "## Renommer les index Avec le nom des pays ##\n",
    "confirmed.index = confirmed['Country/Region']\n",
    "deaths.index = deaths['Country/Region']\n",
    "recovered.index = recovered['Country/Region']"
   ]
  },
  {
   "cell_type": "code",
   "execution_count": 101,
   "metadata": {
    "colab": {
     "base_uri": "https://localhost:8080/",
     "height": 566
    },
    "colab_type": "code",
    "id": "Lhi9OupwEvoX",
    "outputId": "651f7151-abeb-4baf-de4c-86e2e92692ce"
   },
   "outputs": [
    {
     "name": "stderr",
     "output_type": "stream",
     "text": [
      "/Library/Frameworks/Python.framework/Versions/3.7/lib/python3.7/site-packages/ipykernel_launcher.py:2: RuntimeWarning: divide by zero encountered in log\n",
      "  \n"
     ]
    },
    {
     "data": {
      "text/plain": [
       "<matplotlib.axes._subplots.AxesSubplot at 0x13baebfd0>"
      ]
     },
     "execution_count": 101,
     "metadata": {},
     "output_type": "execute_result"
    },
    {
     "data": {
      "image/png": "[encoded data removed]",
      "text/plain": [
       "<Figure size 1440x720 with 1 Axes>"
      ]
     },
     "metadata": {
      "needs_background": "light"
     },
     "output_type": "display_data"
    }
   ],
   "source": [
    "## Visualisation\n",
    "np.log(confirmed.iloc[:,3:].transpose()).plot(figsize=(20,10),title='Evolution par pays du nombre de confirmed du covid-19')"
   ]
  },
  {
   "cell_type": "code",
   "execution_count": 102,
   "metadata": {
    "colab": {
     "base_uri": "https://localhost:8080/",
     "height": 469
    },
    "colab_type": "code",
    "id": "oBdCIAEJddb0",
    "outputId": "c3cd1511-d1af-40a5-d3a2-68f96ce1d6c7"
   },
   "outputs": [
    {
     "data": {
      "text/html": [
       "<div>\n",
       "<style scoped>\n",
       "    .dataframe tbody tr th:only-of-type {\n",
       "        vertical-align: middle;\n",
       "    }\n",
       "\n",
       "    .dataframe tbody tr th {\n",
       "        vertical-align: top;\n",
       "    }\n",
       "\n",
       "    .dataframe thead th {\n",
       "        text-align: right;\n",
       "    }\n",
       "</style>\n",
       "<table border=\"1\" class=\"dataframe\">\n",
       "  <thead>\n",
       "    <tr style=\"text-align: right;\">\n",
       "      <th></th>\n",
       "      <th>2020-01-26 00:00:00</th>\n",
       "      <th>2020-01-27 00:00:00</th>\n",
       "      <th>2020-01-28 00:00:00</th>\n",
       "      <th>2020-01-29 00:00:00</th>\n",
       "      <th>2020-01-30 00:00:00</th>\n",
       "      <th>2020-01-31 00:00:00</th>\n",
       "      <th>2020-02-01 00:00:00</th>\n",
       "    </tr>\n",
       "  </thead>\n",
       "  <tbody>\n",
       "    <tr>\n",
       "      <td>16</td>\n",
       "      <td>0</td>\n",
       "      <td>0</td>\n",
       "      <td>0</td>\n",
       "      <td>0</td>\n",
       "      <td>0</td>\n",
       "      <td>0</td>\n",
       "      <td>0</td>\n",
       "    </tr>\n",
       "    <tr>\n",
       "      <td>23</td>\n",
       "      <td>0</td>\n",
       "      <td>0</td>\n",
       "      <td>0</td>\n",
       "      <td>0</td>\n",
       "      <td>0</td>\n",
       "      <td>0</td>\n",
       "      <td>0</td>\n",
       "    </tr>\n",
       "    <tr>\n",
       "      <td>32</td>\n",
       "      <td>1</td>\n",
       "      <td>1</td>\n",
       "      <td>2</td>\n",
       "      <td>2</td>\n",
       "      <td>2</td>\n",
       "      <td>4</td>\n",
       "      <td>4</td>\n",
       "    </tr>\n",
       "    <tr>\n",
       "      <td>36</td>\n",
       "      <td>2075</td>\n",
       "      <td>2877</td>\n",
       "      <td>5509</td>\n",
       "      <td>6087</td>\n",
       "      <td>8141</td>\n",
       "      <td>9802</td>\n",
       "      <td>11891</td>\n",
       "    </tr>\n",
       "    <tr>\n",
       "      <td>62</td>\n",
       "      <td>3</td>\n",
       "      <td>3</td>\n",
       "      <td>4</td>\n",
       "      <td>5</td>\n",
       "      <td>5</td>\n",
       "      <td>5</td>\n",
       "      <td>6</td>\n",
       "    </tr>\n",
       "    <tr>\n",
       "      <td>66</td>\n",
       "      <td>0</td>\n",
       "      <td>1</td>\n",
       "      <td>4</td>\n",
       "      <td>4</td>\n",
       "      <td>4</td>\n",
       "      <td>5</td>\n",
       "      <td>8</td>\n",
       "    </tr>\n",
       "    <tr>\n",
       "      <td>81</td>\n",
       "      <td>0</td>\n",
       "      <td>0</td>\n",
       "      <td>0</td>\n",
       "      <td>0</td>\n",
       "      <td>0</td>\n",
       "      <td>0</td>\n",
       "      <td>0</td>\n",
       "    </tr>\n",
       "    <tr>\n",
       "      <td>85</td>\n",
       "      <td>0</td>\n",
       "      <td>0</td>\n",
       "      <td>0</td>\n",
       "      <td>0</td>\n",
       "      <td>0</td>\n",
       "      <td>2</td>\n",
       "      <td>2</td>\n",
       "    </tr>\n",
       "    <tr>\n",
       "      <td>139</td>\n",
       "      <td>0</td>\n",
       "      <td>0</td>\n",
       "      <td>0</td>\n",
       "      <td>0</td>\n",
       "      <td>0</td>\n",
       "      <td>2</td>\n",
       "      <td>2</td>\n",
       "    </tr>\n",
       "    <tr>\n",
       "      <td>157</td>\n",
       "      <td>0</td>\n",
       "      <td>0</td>\n",
       "      <td>0</td>\n",
       "      <td>0</td>\n",
       "      <td>0</td>\n",
       "      <td>0</td>\n",
       "      <td>1</td>\n",
       "    </tr>\n",
       "    <tr>\n",
       "      <td>172</td>\n",
       "      <td>0</td>\n",
       "      <td>0</td>\n",
       "      <td>0</td>\n",
       "      <td>0</td>\n",
       "      <td>0</td>\n",
       "      <td>0</td>\n",
       "      <td>0</td>\n",
       "    </tr>\n",
       "    <tr>\n",
       "      <td>173</td>\n",
       "      <td>5</td>\n",
       "      <td>5</td>\n",
       "      <td>5</td>\n",
       "      <td>5</td>\n",
       "      <td>5</td>\n",
       "      <td>7</td>\n",
       "      <td>8</td>\n",
       "    </tr>\n",
       "    <tr>\n",
       "      <td>177</td>\n",
       "      <td>0</td>\n",
       "      <td>0</td>\n",
       "      <td>0</td>\n",
       "      <td>0</td>\n",
       "      <td>0</td>\n",
       "      <td>2</td>\n",
       "      <td>2</td>\n",
       "    </tr>\n",
       "  </tbody>\n",
       "</table>\n",
       "</div>"
      ],
      "text/plain": [
       "     2020-01-26 00:00:00  2020-01-27 00:00:00  2020-01-28 00:00:00  \\\n",
       "16                     0                    0                    0   \n",
       "23                     0                    0                    0   \n",
       "32                     1                    1                    2   \n",
       "36                  2075                 2877                 5509   \n",
       "62                     3                    3                    4   \n",
       "66                     0                    1                    4   \n",
       "81                     0                    0                    0   \n",
       "85                     0                    0                    0   \n",
       "139                    0                    0                    0   \n",
       "157                    0                    0                    0   \n",
       "172                    0                    0                    0   \n",
       "173                    5                    5                    5   \n",
       "177                    0                    0                    0   \n",
       "\n",
       "     2020-01-29 00:00:00  2020-01-30 00:00:00  2020-01-31 00:00:00  \\\n",
       "16                     0                    0                    0   \n",
       "23                     0                    0                    0   \n",
       "32                     2                    2                    4   \n",
       "36                  6087                 8141                 9802   \n",
       "62                     5                    5                    5   \n",
       "66                     4                    4                    5   \n",
       "81                     0                    0                    0   \n",
       "85                     0                    0                    2   \n",
       "139                    0                    0                    2   \n",
       "157                    0                    0                    0   \n",
       "172                    0                    0                    0   \n",
       "173                    5                    5                    7   \n",
       "177                    0                    0                    2   \n",
       "\n",
       "     2020-02-01 00:00:00  \n",
       "16                     0  \n",
       "23                     0  \n",
       "32                     4  \n",
       "36                 11891  \n",
       "62                     6  \n",
       "66                     8  \n",
       "81                     0  \n",
       "85                     2  \n",
       "139                    2  \n",
       "157                    1  \n",
       "172                    0  \n",
       "173                    8  \n",
       "177                    2  "
      ]
     },
     "execution_count": 102,
     "metadata": {},
     "output_type": "execute_result"
    }
   ],
   "source": [
    "## Pour avoir les données entre 2 dates précises au format datetime\n",
    "start = datetime.strptime(\"2020-01-26\", '%Y-%m-%d')\n",
    "end = datetime.strptime(\"2020-02-01\", '%Y-%m-%d')\n",
    "confirmed_df[confirmed_df['Country/Region'].isin(country_set)].loc[:,start:end]"
   ]
  },
  {
   "cell_type": "markdown",
   "metadata": {
    "colab_type": "text",
    "id": "R6kVMeOIg_Mr"
   },
   "source": [
    "# Transformation Daily"
   ]
  },
  {
   "cell_type": "code",
   "execution_count": 103,
   "metadata": {
    "colab": {},
    "colab_type": "code",
    "id": "HwH_tqNHhJ6Y"
   },
   "outputs": [],
   "source": [
    "# Daily new confirmed case\n",
    "def from_cumul_to_daily(data_cumul):\n",
    "    '''from a dataframe with cumul value each date give us a dataframe with each date new case''' \n",
    "\n",
    "    data_daily = np.matrix(data_cumul) # Put df as a matrix\n",
    "    # variation\n",
    "    data_daily = pd.DataFrame(data_daily[:,1:] - data_daily[:,:-1])  \n",
    "    data_daily.columns = date_index[1:]\n",
    "\n",
    "    return data_daily"
   ]
  },
  {
   "cell_type": "code",
   "execution_count": 104,
   "metadata": {
    "colab": {},
    "colab_type": "code",
    "id": "Qtc-8sB2hOSu"
   },
   "outputs": [],
   "source": [
    "confirmed_df_daily = from_cumul_to_daily(confirmed_df.iloc[:,3:])\n",
    "deaths_df_daily = from_cumul_to_daily(deaths_df.iloc[:,3:])\n",
    "recovered_df_daily = from_cumul_to_daily(recovered_df.iloc[:,3:])"
   ]
  },
  {
   "cell_type": "code",
   "execution_count": 105,
   "metadata": {
    "colab": {
     "base_uri": "https://localhost:8080/",
     "height": 34
    },
    "colab_type": "code",
    "id": "-pqair1Ch038",
    "outputId": "4ab04cb0-7553-4c73-cd0c-0b28142a79a5"
   },
   "outputs": [
    {
     "data": {
      "text/plain": [
       "(187, 108)"
      ]
     },
     "execution_count": 105,
     "metadata": {},
     "output_type": "execute_result"
    }
   ],
   "source": [
    "confirmed_df_daily.shape"
   ]
  },
  {
   "cell_type": "markdown",
   "metadata": {
    "colab_type": "text",
    "id": "N_muUfMljwdG"
   },
   "source": [
    "# Counter et Stats"
   ]
  },
  {
   "cell_type": "code",
   "execution_count": 106,
   "metadata": {
    "colab": {},
    "colab_type": "code",
    "id": "N20xuuUNjzzk"
   },
   "outputs": [],
   "source": [
    "## Pays avec le plus de nouveaux mort pendant la plus grande periode\n",
    "\n",
    "def from_daily_to_dict_of_days_at_max(data_daily,countries_list):\n",
    "    '''from the dataframe with all daily new cases give us a list \n",
    "    with the country with max new case at each date and after that give us a dict \n",
    "    with country as key and count of the country in the list as value'''\n",
    "\n",
    "    countries_max = [countries_list[i] for i in np.squeeze(np.array(np.argmax(np.matrix(data_daily),axis=0)))]\n",
    "    counter_by_country = Counter(countries_max)\n",
    "\n",
    "    return counter_by_country"
   ]
  },
  {
   "cell_type": "code",
   "execution_count": 107,
   "metadata": {
    "colab": {},
    "colab_type": "code",
    "id": "1fPBChcWj-S6"
   },
   "outputs": [],
   "source": [
    "confirmed_counter = from_daily_to_dict_of_days_at_max(confirmed_df_daily.iloc[:,:32],pays)\n",
    "deaths_counter = from_daily_to_dict_of_days_at_max(deaths_df_daily,pays)\n",
    "recovered_counter = from_daily_to_dict_of_days_at_max(recovered_df_daily,pays)"
   ]
  },
  {
   "cell_type": "code",
   "execution_count": 108,
   "metadata": {
    "colab": {
     "base_uri": "https://localhost:8080/",
     "height": 51
    },
    "colab_type": "code",
    "id": "q883C4uDlT27",
    "outputId": "cc98beb9-82c4-4484-fa36-dd1833ff66f7"
   },
   "outputs": [
    {
     "name": "stdout",
     "output_type": "stream",
     "text": [
      "Confirmed Sur 32jours : Counter({'China': 31, 'Korea, South': 1})\n",
      "Deaths Sur le total : Counter({'China': 40, 'US': 40, 'Italy': 21, 'Spain': 4, 'Iran': 2, 'Korea, South': 1})\n"
     ]
    }
   ],
   "source": [
    "print('Confirmed Sur 32jours :',confirmed_counter)\n",
    "print('Deaths Sur le total :',deaths_counter)"
   ]
  },
  {
   "cell_type": "markdown",
   "metadata": {
    "colab_type": "text",
    "id": "CTM0bAX57iGh"
   },
   "source": [
    "# Genererer 1 Matrice shape (N,T,3)"
   ]
  },
  {
   "cell_type": "code",
   "execution_count": 109,
   "metadata": {
    "colab": {},
    "colab_type": "code",
    "id": "9LsHytHW7qja"
   },
   "outputs": [],
   "source": [
    "def generate_1_matrix_from_3_matrix(data1,data2,data3):\n",
    "    '''\n",
    "    from 3 dataframe with DatetimeIndex and shape (nb_pays,nb_dates) \n",
    "    give us one matrix of shape (nb_pays,nb_dates,3)\n",
    "    '''\n",
    "    #assert isinstance(data1.index, pd.DatetimeIndex), \"data1 must be transposed to have DatetimeIndex\"\n",
    "    #assert isinstance(data2.index, pd.DatetimeIndex), \"data2 must be transposed to have DatetimeIndex\"\n",
    "    #assert isinstance(data3.index, pd.DatetimeIndex), \"data3 must be transposed to have DatetimeIndex\"\n",
    "\n",
    "    assert isinstance(data1, pd.DataFrame), \"data1 must be a DataFrame\"\n",
    "    assert isinstance(data2, pd.DataFrame), \"data2 must be a DataFrame\"\n",
    "    assert isinstance(data3, pd.DataFrame), \"data3 must be a DataFrame\"\n",
    "\n",
    "    M1 = np.matrix(data1)\n",
    "    M2 = np.matrix(data2)\n",
    "    M3 = np.matrix(data3)\n",
    "\n",
    "    new_matrix = []\n",
    "    for i in range(M3.shape[0]):\n",
    "        m1 = M1[i]\n",
    "        m2 = M2[i]\n",
    "        m3 = M3[i]\n",
    "        new_matrix.append([m1,m2,m3])\n",
    "  \n",
    "    M = np.squeeze(np.array(new_matrix))\n",
    "    assert M.shape == (M1.shape[0],3,M1.shape[1]) , \"shape error after first loop\"\n",
    "\n",
    "    new_M = np.zeros((M1.shape[0],M1.shape[1],3))\n",
    "    for i in range(M.shape[0]):\n",
    "        for j in range(M.shape[2]):\n",
    "            new_M[i][j][0]= M[i][0][j]\n",
    "            new_M[i][j][1] = M[i][1][j]\n",
    "            new_M[i][j][2] = M[i][2][j]\n",
    "\n",
    "    print('new_m :',new_M.shape)\n",
    "    assert new_M.shape == (M.shape[0],M.shape[2],3), \"shape error after 2nd loop\"\n",
    "\n",
    "    return M"
   ]
  },
  {
   "cell_type": "code",
   "execution_count": 110,
   "metadata": {
    "colab": {
     "base_uri": "https://localhost:8080/",
     "height": 51
    },
    "colab_type": "code",
    "id": "dRomGLc37xLL",
    "outputId": "7abe94ed-b8bf-4097-c01a-bed43d88db89"
   },
   "outputs": [
    {
     "name": "stdout",
     "output_type": "stream",
     "text": [
      "new_m : (187, 108, 3)\n",
      "M : (187, 3, 108)\n"
     ]
    }
   ],
   "source": [
    "M = generate_1_matrix_from_3_matrix(confirmed_df_daily,deaths_df_daily,recovered_df_daily)\n",
    "print('M :',M.shape)"
   ]
  },
  {
   "cell_type": "markdown",
   "metadata": {
    "colab_type": "text",
    "id": "T8QvlbE4qXr9"
   },
   "source": [
    "# Visualisation"
   ]
  },
  {
   "cell_type": "markdown",
   "metadata": {
    "colab_type": "text",
    "id": "oWwBWVcyg3hi"
   },
   "source": [
    "Tracez sur un même graphique l'évolution du volume quotidien de nouveaux cas total (somme des 13 pays) de (a) cas confirmés (en bleu), (b) décès (en rouge) et (c) soignés (en vert) en fonction du temps. Pour prendrez soin de faire apparaître la légende sur le graphique."
   ]
  },
  {
   "cell_type": "code",
   "execution_count": 111,
   "metadata": {
    "colab": {
     "base_uri": "https://localhost:8080/",
     "height": 336
    },
    "colab_type": "code",
    "id": "QlETomkVgy5D",
    "outputId": "fbd624bb-4b86-403f-efa9-73d5e58653d9"
   },
   "outputs": [
    {
     "data": {
      "image/png": "[encoded data removed]",
      "text/plain": [
       "<Figure size 720x360 with 1 Axes>"
      ]
     },
     "metadata": {
      "needs_background": "light"
     },
     "output_type": "display_data"
    }
   ],
   "source": [
    "# Evolution du volume quotidien de nouveaux cas total\n",
    "plt.figure(figsize=(10,5))\n",
    "plt.plot(confirmed.iloc[:,3:].sum(axis=0),color='blue',label='confirmed')\n",
    "plt.plot(deaths.iloc[:,3:].sum(axis=0),color='red',label='deaths')\n",
    "plt.plot(recovered.iloc[:,3:].sum(axis=0),color='green',label='recovered')\n",
    "plt.legend()\n",
    "plt.title(\"évolution du volume quotidien de nouveaux cas total\")\n",
    "plt.show()"
   ]
  },
  {
   "cell_type": "code",
   "execution_count": 112,
   "metadata": {
    "colab": {
     "base_uri": "https://localhost:8080/",
     "height": 336
    },
    "colab_type": "code",
    "id": "12bLdV8gjFOO",
    "outputId": "d68127f8-fb82-440f-9f59-e8e85a576262"
   },
   "outputs": [
    {
     "data": {
      "image/png": "[encoded data removed]",
      "text/plain": [
       "<Figure size 720x360 with 1 Axes>"
      ]
     },
     "metadata": {
      "needs_background": "light"
     },
     "output_type": "display_data"
    }
   ],
   "source": [
    "# Evolution du volume quotidien de nouveaux cas total en echelle log\n",
    "plt.figure(figsize=(10,5))\n",
    "plt.plot(np.log(confirmed.iloc[:,3:].sum(axis=0)),color='blue',label='confirmed')\n",
    "plt.plot(np.log(deaths.iloc[:,3:].sum(axis=0)),color='red',label='deaths')\n",
    "plt.plot(np.log(recovered.iloc[:,3:].sum(axis=0)),color='green',label='recovered')\n",
    "plt.legend()\n",
    "plt.title(\"Evolution du volume quotidien de nouveaux cas total en echelle log\")\n",
    "plt.show()"
   ]
  },
  {
   "cell_type": "code",
   "execution_count": 113,
   "metadata": {
    "colab": {
     "base_uri": "https://localhost:8080/",
     "height": 336
    },
    "colab_type": "code",
    "id": "W_ClwhRgifF2",
    "outputId": "78c1604a-35a8-48cd-f1dd-e23f5cf02d76"
   },
   "outputs": [
    {
     "data": {
      "image/png": "[encoded data removed]",
      "text/plain": [
       "<Figure size 720x360 with 1 Axes>"
      ]
     },
     "metadata": {
      "needs_background": "light"
     },
     "output_type": "display_data"
    }
   ],
   "source": [
    "# Evolution du nombre quotidien de nouveaux cas en echelle log\n",
    "plt.figure(figsize=(10,5))\n",
    "plt.plot(np.log(confirmed_df_daily.sum(axis=0)),color='blue',label='confirmed') #on somme a chaque fois en colonne\n",
    "plt.plot(np.log(deaths_df_daily.sum(axis=0)),color='red',label='deaths')\n",
    "plt.plot(np.log(recovered_df_daily.sum(axis=0)),color='green',label='recovered')\n",
    "plt.legend()\n",
    "plt.title(\"Evolution du nombre de nouveaux cas quotidien\")\n",
    "plt.show()"
   ]
  },
  {
   "cell_type": "markdown",
   "metadata": {
    "colab_type": "text",
    "id": "K4FN9ViWqa0Y"
   },
   "source": [
    "# Modelisation"
   ]
  },
  {
   "cell_type": "markdown",
   "metadata": {
    "colab_type": "text",
    "id": "r7mR1Pxhor7g"
   },
   "source": [
    "### Selection des X et Y"
   ]
  },
  {
   "cell_type": "markdown",
   "metadata": {
    "colab_type": "text",
    "id": "Y6i435VCpHlq"
   },
   "source": [
    "le dataset que l'on prend est le journalier donc *_df_daily.   \n",
    "On va donc faire un LSTM pour prévoir la valeur à t+1."
   ]
  },
  {
   "cell_type": "code",
   "execution_count": 114,
   "metadata": {
    "colab": {
     "base_uri": "https://localhost:8080/",
     "height": 34
    },
    "colab_type": "code",
    "id": "CLSnwSljpw68",
    "outputId": "33881d8f-bcc4-4531-cca4-5d4da009829b"
   },
   "outputs": [
    {
     "data": {
      "text/plain": [
       "(13, 108)"
      ]
     },
     "execution_count": 114,
     "metadata": {},
     "output_type": "execute_result"
    }
   ],
   "source": [
    "## X\n",
    "confirmed_daily = from_cumul_to_daily(confirmed.iloc[:,3:])\n",
    "X = confirmed_daily\n",
    "X.shape"
   ]
  },
  {
   "cell_type": "code",
   "execution_count": 115,
   "metadata": {
    "colab": {
     "base_uri": "https://localhost:8080/",
     "height": 255
    },
    "colab_type": "code",
    "id": "6oupIsS0qZtm",
    "outputId": "c142a59b-0b2b-4f99-e7ce-905c14b39e5c"
   },
   "outputs": [
    {
     "name": "stdout",
     "output_type": "stream",
     "text": [
      "[[0, 0, 0, 0], [0, 0, 0, 0], [0, 0, 0, 1], [95, 277, 486, 669]]\n",
      "\n",
      "\n"
     ]
    },
    {
     "data": {
      "text/html": [
       "<div>\n",
       "<style scoped>\n",
       "    .dataframe tbody tr th:only-of-type {\n",
       "        vertical-align: middle;\n",
       "    }\n",
       "\n",
       "    .dataframe tbody tr th {\n",
       "        vertical-align: top;\n",
       "    }\n",
       "\n",
       "    .dataframe thead th {\n",
       "        text-align: right;\n",
       "    }\n",
       "</style>\n",
       "<table border=\"1\" class=\"dataframe\">\n",
       "  <thead>\n",
       "    <tr style=\"text-align: right;\">\n",
       "      <th></th>\n",
       "      <th>0</th>\n",
       "      <th>1</th>\n",
       "      <th>2</th>\n",
       "      <th>3</th>\n",
       "      <th>4</th>\n",
       "      <th>5</th>\n",
       "      <th>6</th>\n",
       "      <th>7</th>\n",
       "      <th>8</th>\n",
       "      <th>9</th>\n",
       "      <th>10</th>\n",
       "      <th>11</th>\n",
       "      <th>12</th>\n",
       "    </tr>\n",
       "  </thead>\n",
       "  <tbody>\n",
       "    <tr>\n",
       "      <td>2020-01-23</td>\n",
       "      <td>0</td>\n",
       "      <td>0</td>\n",
       "      <td>0</td>\n",
       "      <td>95</td>\n",
       "      <td>0</td>\n",
       "      <td>0</td>\n",
       "      <td>0</td>\n",
       "      <td>0</td>\n",
       "      <td>0</td>\n",
       "      <td>0</td>\n",
       "      <td>0</td>\n",
       "      <td>0</td>\n",
       "      <td>0</td>\n",
       "    </tr>\n",
       "    <tr>\n",
       "      <td>2020-01-24</td>\n",
       "      <td>0</td>\n",
       "      <td>0</td>\n",
       "      <td>0</td>\n",
       "      <td>277</td>\n",
       "      <td>2</td>\n",
       "      <td>0</td>\n",
       "      <td>0</td>\n",
       "      <td>0</td>\n",
       "      <td>0</td>\n",
       "      <td>0</td>\n",
       "      <td>0</td>\n",
       "      <td>1</td>\n",
       "      <td>0</td>\n",
       "    </tr>\n",
       "    <tr>\n",
       "      <td>2020-01-25</td>\n",
       "      <td>0</td>\n",
       "      <td>0</td>\n",
       "      <td>0</td>\n",
       "      <td>486</td>\n",
       "      <td>1</td>\n",
       "      <td>0</td>\n",
       "      <td>0</td>\n",
       "      <td>0</td>\n",
       "      <td>0</td>\n",
       "      <td>0</td>\n",
       "      <td>0</td>\n",
       "      <td>0</td>\n",
       "      <td>0</td>\n",
       "    </tr>\n",
       "    <tr>\n",
       "      <td>2020-01-26</td>\n",
       "      <td>0</td>\n",
       "      <td>0</td>\n",
       "      <td>1</td>\n",
       "      <td>669</td>\n",
       "      <td>0</td>\n",
       "      <td>0</td>\n",
       "      <td>0</td>\n",
       "      <td>0</td>\n",
       "      <td>0</td>\n",
       "      <td>0</td>\n",
       "      <td>0</td>\n",
       "      <td>3</td>\n",
       "      <td>0</td>\n",
       "    </tr>\n",
       "    <tr>\n",
       "      <td>2020-01-27</td>\n",
       "      <td>0</td>\n",
       "      <td>0</td>\n",
       "      <td>0</td>\n",
       "      <td>802</td>\n",
       "      <td>0</td>\n",
       "      <td>1</td>\n",
       "      <td>0</td>\n",
       "      <td>0</td>\n",
       "      <td>0</td>\n",
       "      <td>0</td>\n",
       "      <td>0</td>\n",
       "      <td>0</td>\n",
       "      <td>0</td>\n",
       "    </tr>\n",
       "  </tbody>\n",
       "</table>\n",
       "</div>"
      ],
      "text/plain": [
       "            0  1  2    3  4  5  6  7  8  9  10  11  12\n",
       "2020-01-23  0  0  0   95  0  0  0  0  0  0   0   0   0\n",
       "2020-01-24  0  0  0  277  2  0  0  0  0  0   0   1   0\n",
       "2020-01-25  0  0  0  486  1  0  0  0  0  0   0   0   0\n",
       "2020-01-26  0  0  1  669  0  0  0  0  0  0   0   3   0\n",
       "2020-01-27  0  0  0  802  0  1  0  0  0  0   0   0   0"
      ]
     },
     "execution_count": 115,
     "metadata": {},
     "output_type": "execute_result"
    }
   ],
   "source": [
    "print(X.iloc[:4,:4].values.tolist())\n",
    "print('\\n')\n",
    "X.transpose().head()"
   ]
  },
  {
   "cell_type": "markdown",
   "metadata": {
    "colab_type": "text",
    "id": "aNUl8MeIiP7m"
   },
   "source": [
    "#### NOMALISE ET SCALER"
   ]
  },
  {
   "cell_type": "code",
   "execution_count": 116,
   "metadata": {
    "colab": {
     "base_uri": "https://localhost:8080/",
     "height": 34
    },
    "colab_type": "code",
    "id": "CAIIvxVJlhLk",
    "outputId": "db0d5829-45e6-46c6-8a0c-5599de907e0a"
   },
   "outputs": [
    {
     "name": "stdout",
     "output_type": "stream",
     "text": [
      "(108, 13)\n"
     ]
    }
   ],
   "source": [
    "from sklearn.preprocessing import MinMaxScaler\n",
    "\n",
    "scaler = MinMaxScaler(feature_range=(-1, 1))\n",
    "#scaler = MinMaxScaler()\n",
    "scaler.fit(X.transpose())\n",
    "Xscl = scaler.transform(X.transpose())\n",
    "print(Xscl.shape)"
   ]
  },
  {
   "cell_type": "markdown",
   "metadata": {
    "colab_type": "text",
    "id": "uk_mHvogpx0Z"
   },
   "source": [
    "Pour definir Y on va faire des sliding windows avec pour chaque window de T dates on prendra T+1 pour Y"
   ]
  },
  {
   "cell_type": "code",
   "execution_count": 117,
   "metadata": {
    "colab": {
     "base_uri": "https://localhost:8080/",
     "height": 289
    },
    "colab_type": "code",
    "id": "ntMDXip5pf0-",
    "outputId": "39831f53-baf8-482a-feaa-cc66171b8b51"
   },
   "outputs": [
    {
     "name": "stdout",
     "output_type": "stream",
     "text": [
      "Samples: 107\n",
      "[[[-1.         -1.         -1.         -0.98744715 -0.82901325\n",
      "   -1.         -1.         -1.         -1.          0.02054516\n",
      "   -1.         -1.         -1.        ]]] => [[-1.         -1.         -1.         -0.96339852 -0.82887701 -1.\n",
      "  -1.         -1.         -1.          0.02054516 -1.         -0.99994473\n",
      "  -1.        ]]\n",
      "[[[-1.         -1.         -1.         -0.96339852 -0.82887701\n",
      "   -1.         -1.         -1.         -1.          0.02054516\n",
      "   -1.         -0.99994473 -1.        ]]] => [[-1.         -1.         -1.         -0.93578224 -0.82894513 -1.\n",
      "  -1.         -1.         -1.          0.02054516 -1.         -1.\n",
      "  -1.        ]]\n",
      "[[[-1.         -1.         -1.         -0.93578224 -0.82894513\n",
      "   -1.         -1.         -1.         -1.          0.02054516\n",
      "   -1.         -1.         -1.        ]]] => [[-1.         -1.         -0.99928006 -0.91160148 -0.82901325 -1.\n",
      "  -1.         -1.         -1.          0.02054516 -1.         -0.9998342\n",
      "  -1.        ]]\n"
     ]
    }
   ],
   "source": [
    "# univariate one step problem\n",
    "from keras.preprocessing.sequence import TimeseriesGenerator\n",
    "\n",
    "# On definit generator\n",
    "n_input = 1\n",
    "#generator = TimeseriesGenerator(np.matrix(Xscl.transpose()), np.matrix(X.transpose()), length=n_input, batch_size=1)\n",
    "generator = TimeseriesGenerator(Xscl,Xscl, length=n_input, batch_size=1)\n",
    "\n",
    "# Nombre d'echantillon\n",
    "print('Samples: %d' % len(generator))\n",
    "\n",
    "# On affiche 2 echantillons Xi et le Yi de chaque.\n",
    "for i in range(3):\n",
    "    x, y = generator[i]\n",
    "    print('%s => %s' % (x, y))"
   ]
  },
  {
   "cell_type": "code",
   "execution_count": 118,
   "metadata": {
    "colab": {
     "base_uri": "https://localhost:8080/",
     "height": 51
    },
    "colab_type": "code",
    "id": "2wcbt4KztyE_",
    "outputId": "c5002f48-a2bc-4a18-948f-fe6e84b7c6fd"
   },
   "outputs": [
    {
     "name": "stdout",
     "output_type": "stream",
     "text": [
      "(1, 1, 13)\n",
      "(1, 13)\n"
     ]
    }
   ],
   "source": [
    "print(generator[0][0].shape)\n",
    "print(generator[0][1].shape)"
   ]
  },
  {
   "cell_type": "code",
   "execution_count": 119,
   "metadata": {
    "colab": {},
    "colab_type": "code",
    "id": "91jDdkKuQ3m3"
   },
   "outputs": [],
   "source": [
    "X1 = []\n",
    "Y1 = []\n",
    "\n",
    "for i in range(len(generator)):\n",
    "    x, y = generator[i]\n",
    "    X1.append(x)\n",
    "    Y1.append(y) \n",
    "\n",
    "X1 =np.array(X1)\n",
    "Y1 =np.array(Y1)"
   ]
  },
  {
   "cell_type": "code",
   "execution_count": 120,
   "metadata": {
    "colab": {
     "base_uri": "https://localhost:8080/",
     "height": 51
    },
    "colab_type": "code",
    "id": "hb4kbD4WUDCj",
    "outputId": "3b329372-1462-49f5-f832-aa64e93c1e66"
   },
   "outputs": [
    {
     "name": "stdout",
     "output_type": "stream",
     "text": [
      "(107, 1, 13)\n",
      "(107, 13)\n"
     ]
    }
   ],
   "source": [
    "X11 = np.reshape(X1, (X1.shape[0],1,X1.shape[-1]))\n",
    "Y11 = np.squeeze(Y1)\n",
    "print(X11.shape)\n",
    "print(Y11.shape)"
   ]
  },
  {
   "cell_type": "markdown",
   "metadata": {
    "colab_type": "text",
    "id": "keDO6YVcX5qY"
   },
   "source": [
    "### Train test split"
   ]
  },
  {
   "cell_type": "code",
   "execution_count": 121,
   "metadata": {
    "colab": {
     "base_uri": "https://localhost:8080/",
     "height": 85
    },
    "colab_type": "code",
    "id": "ErQZakfkX2c5",
    "outputId": "ea8dd91a-608e-4222-fc73-7dd6ee254a04"
   },
   "outputs": [
    {
     "name": "stdout",
     "output_type": "stream",
     "text": [
      "xtrain: (71, 1, 13)\n",
      "xtest: (36, 1, 13)\n",
      "ytrain: (71, 13)\n",
      "ytest: (36, 13)\n"
     ]
    }
   ],
   "source": [
    "from sklearn.model_selection import train_test_split\n",
    "xtrain,xtest,ytrain,ytest = train_test_split(X11, Y11, test_size=0.33)\n",
    "print('xtrain:',xtrain.shape)\n",
    "print('xtest:',xtest.shape)\n",
    "print('ytrain:',ytrain.shape)\n",
    "print('ytest:',ytest.shape)"
   ]
  },
  {
   "cell_type": "markdown",
   "metadata": {
    "colab_type": "text",
    "id": "bRjdWpcxuylC"
   },
   "source": [
    "\n",
    "### Model 1"
   ]
  },
  {
   "cell_type": "code",
   "execution_count": 122,
   "metadata": {
    "colab": {},
    "colab_type": "code",
    "id": "uf2JXoxrufh2"
   },
   "outputs": [],
   "source": [
    "def lstm_model1(outp, inpt = (1,13)):\n",
    "    ''' Fonction qui renvoie un modele LSTM sur une representation sequentielle\n",
    "    des data avec en entree: shape (*,inpt) et en sortie: shape (*, outp) '''\n",
    "\n",
    "    # en entree du neuronne on aura shape (*,inpt)\n",
    "    x = Input(shape = inpt) #en input on a (*,nb_features,nb_pays)\n",
    "\n",
    "    h = LSTM(64, activation = 'tanh')(x) #activation par default est tanh\n",
    "    #shape de sortie (*,64)\n",
    "    h = Dense(64)(h)\n",
    "    #h  = Dense (32)(h)\n",
    "    h = Dropout(0.25)(h)\n",
    "    y = Dense(outp, activation='softmax')(h) #to have the right output size\n",
    "\n",
    "    return Model(inputs=x, outputs=y)\n"
   ]
  },
  {
   "cell_type": "code",
   "execution_count": 123,
   "metadata": {
    "colab": {
     "base_uri": "https://localhost:8080/",
     "height": 323
    },
    "colab_type": "code",
    "id": "BfanvC9cwFa_",
    "outputId": "9dde5eee-b6e4-4d81-92c8-8973a393b731"
   },
   "outputs": [
    {
     "name": "stdout",
     "output_type": "stream",
     "text": [
      "Model: \"model_3\"\n",
      "_________________________________________________________________\n",
      "Layer (type)                 Output Shape              Param #   \n",
      "=================================================================\n",
      "input_3 (InputLayer)         (None, 1, 13)             0         \n",
      "_________________________________________________________________\n",
      "lstm_3 (LSTM)                (None, 64)                19968     \n",
      "_________________________________________________________________\n",
      "dense_5 (Dense)              (None, 64)                4160      \n",
      "_________________________________________________________________\n",
      "dropout_3 (Dropout)          (None, 64)                0         \n",
      "_________________________________________________________________\n",
      "dense_6 (Dense)              (None, 13)                845       \n",
      "=================================================================\n",
      "Total params: 24,973\n",
      "Trainable params: 24,973\n",
      "Non-trainable params: 0\n",
      "_________________________________________________________________\n"
     ]
    }
   ],
   "source": [
    "inpt = (xtrain.shape[1],xtrain.shape[2])\n",
    "outp = ytrain.shape[1]\n",
    "model1 = lstm_model1(outp,inpt)\n",
    "model1.summary()"
   ]
  },
  {
   "cell_type": "markdown",
   "metadata": {
    "colab_type": "text",
    "id": "28Zlyvgqed-k"
   },
   "source": [
    "On va normaliser nos data pour que le modele soit plus performant"
   ]
  },
  {
   "cell_type": "code",
   "execution_count": 124,
   "metadata": {
    "colab": {
     "base_uri": "https://localhost:8080/",
     "height": 88
    },
    "colab_type": "code",
    "id": "4dVBwc1ZcTWo",
    "outputId": "5de7ae20-80d5-41ff-9aac-38caedc72807"
   },
   "outputs": [
    {
     "name": "stderr",
     "output_type": "stream",
     "text": [
      "/Library/Frameworks/Python.framework/Versions/3.7/lib/python3.7/site-packages/keras/callbacks/callbacks.py:846: RuntimeWarning: Early stopping conditioned on metric `val_loss` which is not available. Available metrics are: loss,accuracy\n",
      "  (self.monitor, ','.join(list(logs.keys()))), RuntimeWarning\n"
     ]
    },
    {
     "data": {
      "text/plain": [
       "<keras.callbacks.callbacks.History at 0x141ebc350>"
      ]
     },
     "execution_count": 124,
     "metadata": {},
     "output_type": "execute_result"
    }
   ],
   "source": [
    "#Compilation\n",
    "model1.compile(loss='mse', optimizer='adam', metrics=['accuracy'])\n",
    "\n",
    "#Fit\n",
    "callback_2 = EarlyStopping(monitor='val_loss', min_delta=0.005, patience=5)\n",
    "model1.fit(xtrain,ytrain, callbacks = [callback_2], epochs= 200,verbose=0) #mettre verbose=0 pour ne pas afficher\n"
   ]
  },
  {
   "cell_type": "markdown",
   "metadata": {
    "colab_type": "text",
    "id": "QC08BOpgcrRV"
   },
   "source": [
    "### Prediction"
   ]
  },
  {
   "cell_type": "code",
   "execution_count": 125,
   "metadata": {
    "colab": {},
    "colab_type": "code",
    "id": "9pUHEi7zcuSG"
   },
   "outputs": [],
   "source": [
    "# make a prediction\n",
    "p = model1.predict(xtest)\n",
    "#on reshape le xtest\n",
    "xtest = xtest.reshape((xtest.shape[0], xtest.shape[2]))\n"
   ]
  },
  {
   "cell_type": "code",
   "execution_count": 126,
   "metadata": {},
   "outputs": [
    {
     "data": {
      "text/plain": [
       "array([[ 1227.0968,  5578.744 ,  1389.4045,  7568.211 , 12170.384 ,\n",
       "         3467.966 ,  1598.2631,  3368.844 ,  5616.5435,  9302.795 ,\n",
       "         2569.79  , 18109.084 ,  4366.8384],\n",
       "       [ 1227.0972,  5578.7466,  1389.4055,  7568.211 , 12170.386 ,\n",
       "         3467.9688,  1598.2654,  3368.8972,  5616.5464,  9302.587 ,\n",
       "         2569.7908, 18109.088 ,  4366.839 ],\n",
       "       [ 1227.1135,  5578.8564,  1389.4521,  7568.2534, 12170.554 ,\n",
       "         3468.1624,  1598.5344,  3374.205 ,  5616.664 ,  9283.017 ,\n",
       "         2569.8323, 18109.383 ,  4366.881 ]], dtype=float32)"
      ]
     },
     "execution_count": 126,
     "metadata": {},
     "output_type": "execute_result"
    }
   ],
   "source": [
    "# invert scaling for forecast\n",
    "inv_p = scaler.inverse_transform(p)\n",
    "inv_p[:3]"
   ]
  },
  {
   "cell_type": "code",
   "execution_count": 127,
   "metadata": {
    "colab": {
     "base_uri": "https://localhost:8080/",
     "height": 34
    },
    "colab_type": "code",
    "id": "y4rCLWv1kzlj",
    "outputId": "ad00fb56-bb06-4534-afe9-26d40aa74b03"
   },
   "outputs": [
    {
     "data": {
      "text/plain": [
       "array([[0.000e+00, 0.000e+00, 0.000e+00, 3.730e+02, 0.000e+00, 0.000e+00,\n",
       "        0.000e+00, 0.000e+00, 0.000e+00, 0.000e+00, 0.000e+00, 0.000e+00,\n",
       "        1.000e+00],\n",
       "       [0.000e+00, 0.000e+00, 2.000e+00, 1.661e+03, 0.000e+00, 1.000e+00,\n",
       "        0.000e+00, 2.000e+00, 2.000e+00, 0.000e+00, 0.000e+00, 2.000e+00,\n",
       "        2.000e+00],\n",
       "       [1.000e+00, 0.000e+00, 0.000e+00, 3.991e+03, 0.000e+00, 0.000e+00,\n",
       "        0.000e+00, 0.000e+00, 0.000e+00, 0.000e+00, 0.000e+00, 0.000e+00,\n",
       "        0.000e+00]])"
      ]
     },
     "execution_count": 127,
     "metadata": {},
     "output_type": "execute_result"
    }
   ],
   "source": [
    "# invert scaling for actual\n",
    "#ytest = ytest.reshape((len(ytest), 13))\n",
    "inv_y = scaler.inverse_transform(ytest)\n",
    "inv_y[:3]"
   ]
  },
  {
   "cell_type": "code",
   "execution_count": 128,
   "metadata": {},
   "outputs": [
    {
     "name": "stdout",
     "output_type": "stream",
     "text": [
      "Test RMSE: 5996.385\n"
     ]
    }
   ],
   "source": [
    "from sklearn.metrics import mean_squared_error,auc\n",
    "# calculate RMSE\n",
    "rmse = np.sqrt(mean_squared_error(inv_y, inv_p))\n",
    "print('Test RMSE: %.3f' % rmse)\n",
    "\n",
    "#for i in range(len(inv_y)):\n",
    "    #p_acc = auc(inv_y[i],inv_p[i])\n",
    "    #print('acc:',p_acc)"
   ]
  },
  {
   "cell_type": "markdown",
   "metadata": {},
   "source": [
    "### Plot prediction"
   ]
  },
  {
   "cell_type": "code",
   "execution_count": 129,
   "metadata": {
    "colab": {
     "base_uri": "https://localhost:8080/",
     "height": 34
    },
    "colab_type": "code",
    "id": "3b6TeERpxxuX",
    "outputId": "cc8d2b56-c220-4486-e1d2-c883c0cd9e5f"
   },
   "outputs": [
    {
     "name": "stdout",
     "output_type": "stream",
     "text": [
      "(36, 13)\n"
     ]
    },
    {
     "data": {
      "text/html": [
       "<div>\n",
       "<style scoped>\n",
       "    .dataframe tbody tr th:only-of-type {\n",
       "        vertical-align: middle;\n",
       "    }\n",
       "\n",
       "    .dataframe tbody tr th {\n",
       "        vertical-align: top;\n",
       "    }\n",
       "\n",
       "    .dataframe thead th {\n",
       "        text-align: right;\n",
       "    }\n",
       "</style>\n",
       "<table border=\"1\" class=\"dataframe\">\n",
       "  <thead>\n",
       "    <tr style=\"text-align: right;\">\n",
       "      <th></th>\n",
       "      <th>0</th>\n",
       "      <th>1</th>\n",
       "      <th>2</th>\n",
       "      <th>3</th>\n",
       "      <th>4</th>\n",
       "      <th>5</th>\n",
       "      <th>6</th>\n",
       "      <th>7</th>\n",
       "      <th>8</th>\n",
       "      <th>9</th>\n",
       "      <th>10</th>\n",
       "      <th>11</th>\n",
       "      <th>12</th>\n",
       "    </tr>\n",
       "  </thead>\n",
       "  <tbody>\n",
       "    <tr>\n",
       "      <td>2020-01-23</td>\n",
       "      <td>0</td>\n",
       "      <td>0</td>\n",
       "      <td>0</td>\n",
       "      <td>95</td>\n",
       "      <td>0</td>\n",
       "      <td>0</td>\n",
       "      <td>0</td>\n",
       "      <td>0</td>\n",
       "      <td>0</td>\n",
       "      <td>0</td>\n",
       "      <td>0</td>\n",
       "      <td>0</td>\n",
       "      <td>0</td>\n",
       "    </tr>\n",
       "    <tr>\n",
       "      <td>2020-01-24</td>\n",
       "      <td>0</td>\n",
       "      <td>0</td>\n",
       "      <td>0</td>\n",
       "      <td>277</td>\n",
       "      <td>2</td>\n",
       "      <td>0</td>\n",
       "      <td>0</td>\n",
       "      <td>0</td>\n",
       "      <td>0</td>\n",
       "      <td>0</td>\n",
       "      <td>0</td>\n",
       "      <td>1</td>\n",
       "      <td>0</td>\n",
       "    </tr>\n",
       "    <tr>\n",
       "      <td>2020-01-25</td>\n",
       "      <td>0</td>\n",
       "      <td>0</td>\n",
       "      <td>0</td>\n",
       "      <td>486</td>\n",
       "      <td>1</td>\n",
       "      <td>0</td>\n",
       "      <td>0</td>\n",
       "      <td>0</td>\n",
       "      <td>0</td>\n",
       "      <td>0</td>\n",
       "      <td>0</td>\n",
       "      <td>0</td>\n",
       "      <td>0</td>\n",
       "    </tr>\n",
       "    <tr>\n",
       "      <td>2020-01-26</td>\n",
       "      <td>0</td>\n",
       "      <td>0</td>\n",
       "      <td>1</td>\n",
       "      <td>669</td>\n",
       "      <td>0</td>\n",
       "      <td>0</td>\n",
       "      <td>0</td>\n",
       "      <td>0</td>\n",
       "      <td>0</td>\n",
       "      <td>0</td>\n",
       "      <td>0</td>\n",
       "      <td>3</td>\n",
       "      <td>0</td>\n",
       "    </tr>\n",
       "    <tr>\n",
       "      <td>2020-01-27</td>\n",
       "      <td>0</td>\n",
       "      <td>0</td>\n",
       "      <td>0</td>\n",
       "      <td>802</td>\n",
       "      <td>0</td>\n",
       "      <td>1</td>\n",
       "      <td>0</td>\n",
       "      <td>0</td>\n",
       "      <td>0</td>\n",
       "      <td>0</td>\n",
       "      <td>0</td>\n",
       "      <td>0</td>\n",
       "      <td>0</td>\n",
       "    </tr>\n",
       "  </tbody>\n",
       "</table>\n",
       "</div>"
      ],
      "text/plain": [
       "            0  1  2    3  4  5  6  7  8  9  10  11  12\n",
       "2020-01-23  0  0  0   95  0  0  0  0  0  0   0   0   0\n",
       "2020-01-24  0  0  0  277  2  0  0  0  0  0   0   1   0\n",
       "2020-01-25  0  0  0  486  1  0  0  0  0  0   0   0   0\n",
       "2020-01-26  0  0  1  669  0  0  0  0  0  0   0   3   0\n",
       "2020-01-27  0  0  0  802  0  1  0  0  0  0   0   0   0"
      ]
     },
     "execution_count": 129,
     "metadata": {},
     "output_type": "execute_result"
    }
   ],
   "source": [
    "print(inv_p.shape)\n",
    "confirmed_daily.transpose().head()"
   ]
  },
  {
   "cell_type": "markdown",
   "metadata": {},
   "source": [
    "On crée une matrice vide pret à recupérer les predictions"
   ]
  },
  {
   "cell_type": "code",
   "execution_count": 130,
   "metadata": {},
   "outputs": [
    {
     "data": {
      "text/html": [
       "<div>\n",
       "<style scoped>\n",
       "    .dataframe tbody tr th:only-of-type {\n",
       "        vertical-align: middle;\n",
       "    }\n",
       "\n",
       "    .dataframe tbody tr th {\n",
       "        vertical-align: top;\n",
       "    }\n",
       "\n",
       "    .dataframe thead th {\n",
       "        text-align: right;\n",
       "    }\n",
       "</style>\n",
       "<table border=\"1\" class=\"dataframe\">\n",
       "  <thead>\n",
       "    <tr style=\"text-align: right;\">\n",
       "      <th></th>\n",
       "      <th>0</th>\n",
       "      <th>1</th>\n",
       "      <th>2</th>\n",
       "      <th>3</th>\n",
       "      <th>4</th>\n",
       "      <th>5</th>\n",
       "      <th>6</th>\n",
       "      <th>7</th>\n",
       "      <th>8</th>\n",
       "      <th>9</th>\n",
       "      <th>10</th>\n",
       "      <th>11</th>\n",
       "      <th>12</th>\n",
       "    </tr>\n",
       "  </thead>\n",
       "  <tbody>\n",
       "    <tr>\n",
       "      <td>2020-01-23</td>\n",
       "      <td>NaN</td>\n",
       "      <td>NaN</td>\n",
       "      <td>NaN</td>\n",
       "      <td>NaN</td>\n",
       "      <td>NaN</td>\n",
       "      <td>NaN</td>\n",
       "      <td>NaN</td>\n",
       "      <td>NaN</td>\n",
       "      <td>NaN</td>\n",
       "      <td>NaN</td>\n",
       "      <td>NaN</td>\n",
       "      <td>NaN</td>\n",
       "      <td>NaN</td>\n",
       "    </tr>\n",
       "    <tr>\n",
       "      <td>2020-01-24</td>\n",
       "      <td>NaN</td>\n",
       "      <td>NaN</td>\n",
       "      <td>NaN</td>\n",
       "      <td>NaN</td>\n",
       "      <td>NaN</td>\n",
       "      <td>NaN</td>\n",
       "      <td>NaN</td>\n",
       "      <td>NaN</td>\n",
       "      <td>NaN</td>\n",
       "      <td>NaN</td>\n",
       "      <td>NaN</td>\n",
       "      <td>NaN</td>\n",
       "      <td>NaN</td>\n",
       "    </tr>\n",
       "    <tr>\n",
       "      <td>2020-01-25</td>\n",
       "      <td>NaN</td>\n",
       "      <td>NaN</td>\n",
       "      <td>NaN</td>\n",
       "      <td>NaN</td>\n",
       "      <td>NaN</td>\n",
       "      <td>NaN</td>\n",
       "      <td>NaN</td>\n",
       "      <td>NaN</td>\n",
       "      <td>NaN</td>\n",
       "      <td>NaN</td>\n",
       "      <td>NaN</td>\n",
       "      <td>NaN</td>\n",
       "      <td>NaN</td>\n",
       "    </tr>\n",
       "    <tr>\n",
       "      <td>2020-01-26</td>\n",
       "      <td>NaN</td>\n",
       "      <td>NaN</td>\n",
       "      <td>NaN</td>\n",
       "      <td>NaN</td>\n",
       "      <td>NaN</td>\n",
       "      <td>NaN</td>\n",
       "      <td>NaN</td>\n",
       "      <td>NaN</td>\n",
       "      <td>NaN</td>\n",
       "      <td>NaN</td>\n",
       "      <td>NaN</td>\n",
       "      <td>NaN</td>\n",
       "      <td>NaN</td>\n",
       "    </tr>\n",
       "    <tr>\n",
       "      <td>2020-01-27</td>\n",
       "      <td>NaN</td>\n",
       "      <td>NaN</td>\n",
       "      <td>NaN</td>\n",
       "      <td>NaN</td>\n",
       "      <td>NaN</td>\n",
       "      <td>NaN</td>\n",
       "      <td>NaN</td>\n",
       "      <td>NaN</td>\n",
       "      <td>NaN</td>\n",
       "      <td>NaN</td>\n",
       "      <td>NaN</td>\n",
       "      <td>NaN</td>\n",
       "      <td>NaN</td>\n",
       "    </tr>\n",
       "  </tbody>\n",
       "</table>\n",
       "</div>"
      ],
      "text/plain": [
       "             0   1   2   3   4   5   6   7   8   9  10  11  12\n",
       "2020-01-23 NaN NaN NaN NaN NaN NaN NaN NaN NaN NaN NaN NaN NaN\n",
       "2020-01-24 NaN NaN NaN NaN NaN NaN NaN NaN NaN NaN NaN NaN NaN\n",
       "2020-01-25 NaN NaN NaN NaN NaN NaN NaN NaN NaN NaN NaN NaN NaN\n",
       "2020-01-26 NaN NaN NaN NaN NaN NaN NaN NaN NaN NaN NaN NaN NaN\n",
       "2020-01-27 NaN NaN NaN NaN NaN NaN NaN NaN NaN NaN NaN NaN NaN"
      ]
     },
     "execution_count": 130,
     "metadata": {},
     "output_type": "execute_result"
    }
   ],
   "source": [
    "predict = np.zeros(confirmed_daily.transpose().shape)\n",
    "predict[:, :] = np.nan\n",
    "predict = pd.DataFrame(predict,index=confirmed_daily.transpose().index)\n",
    "\n",
    "date_pred = inv_p.shape[0]\n",
    "date_reel_last = date_pred + 1\n",
    "predict.iloc[-date_reel_last,:] = confirmed_daily.transpose().iloc[-date_reel_last,:]\n",
    "predict.iloc[-date_pred:,:] = inv_p\n",
    "predict.head(5)"
   ]
  },
  {
   "cell_type": "code",
   "execution_count": 131,
   "metadata": {},
   "outputs": [
    {
     "data": {
      "image/png": "[encoded data removed]",
      "text/plain": [
       "<Figure size 1440x720 with 1 Axes>"
      ]
     },
     "metadata": {
      "needs_background": "light"
     },
     "output_type": "display_data"
    }
   ],
   "source": [
    "plt.figure(figsize=(20,10))\n",
    "plt.plot(confirmed_daily.transpose().sum(axis=1),color = 'blue',label='reel')\n",
    "plt.plot(predict.iloc[-date_reel_last:,:].sum(axis=1),color='red',label='pred')\n",
    "plt.legend()\n",
    "plt.title(\"Evolution et prédiction du nombre de cas confirmés\")\n",
    "plt.show()"
   ]
  },
  {
   "cell_type": "markdown",
   "metadata": {},
   "source": [
    "## Model 2"
   ]
  },
  {
   "cell_type": "code",
   "execution_count": 132,
   "metadata": {},
   "outputs": [
    {
     "data": {
      "text/plain": [
       "(13, 108)"
      ]
     },
     "execution_count": 132,
     "metadata": {},
     "output_type": "execute_result"
    }
   ],
   "source": [
    "## X\n",
    "confirmed_daily = from_cumul_to_daily(confirmed.iloc[:,3:])\n",
    "X = confirmed_daily\n",
    "X.shape"
   ]
  },
  {
   "cell_type": "code",
   "execution_count": 133,
   "metadata": {},
   "outputs": [
    {
     "name": "stdout",
     "output_type": "stream",
     "text": [
      "(108, 13)\n"
     ]
    }
   ],
   "source": [
    "from sklearn.preprocessing import MinMaxScaler\n",
    "\n",
    "scaler = MinMaxScaler(feature_range=(-1, 1))\n",
    "#scaler = MinMaxScaler()\n",
    "scaler.fit(X.transpose())\n",
    "Xscl = scaler.transform(X.transpose())\n",
    "print(Xscl.shape)"
   ]
  },
  {
   "cell_type": "code",
   "execution_count": 134,
   "metadata": {},
   "outputs": [
    {
     "name": "stdout",
     "output_type": "stream",
     "text": [
      "Samples: 76\n",
      "[[[-1.         -1.         -1.         -0.98744715 -0.82901325\n",
      "   -1.         -1.         -1.         -1.          0.02054516\n",
      "   -1.         -1.         -1.        ]\n",
      "  [-1.         -1.         -1.         -0.96339852 -0.82887701\n",
      "   -1.         -1.         -1.         -1.          0.02054516\n",
      "   -1.         -0.99994473 -1.        ]\n",
      "  [-1.         -1.         -1.         -0.93578224 -0.82894513\n",
      "   -1.         -1.         -1.         -1.          0.02054516\n",
      "   -1.         -1.         -1.        ]\n",
      "  [-1.         -1.         -0.99928006 -0.91160148 -0.82901325\n",
      "   -1.         -1.         -1.         -1.          0.02054516\n",
      "   -1.         -0.9998342  -1.        ]\n",
      "  [-1.         -1.         -1.         -0.89402748 -0.82901325\n",
      "   -0.99971152 -1.         -1.         -1.          0.02054516\n",
      "   -1.         -1.         -1.        ]\n",
      "  [-1.         -1.         -0.99928006 -0.65221987 -0.82894513\n",
      "   -0.99913457 -1.         -1.         -1.          0.02054516\n",
      "   -1.         -1.         -1.        ]\n",
      "  [-1.         -1.         -1.         -0.92362579 -0.82894513\n",
      "   -1.         -1.         -1.         -1.          0.02054516\n",
      "   -1.         -1.         -1.        ]\n",
      "  [-1.         -1.         -1.         -0.72859408 -0.82901325\n",
      "   -1.         -1.         -1.         -1.          0.02054516\n",
      "   -1.         -1.         -1.        ]\n",
      "  [-1.         -1.         -0.99856012 -0.78052326 -0.82901325\n",
      "   -0.99971152 -1.         -0.99938996 -0.99964384  0.02054516\n",
      "   -1.         -0.99988947 -0.99954197]\n",
      "  [-1.         -1.         -1.         -0.72396934 -0.82894513\n",
      "   -0.99913457 -1.         -1.         -1.          0.02064687\n",
      "   -1.         -0.99994473 -1.        ]\n",
      "  [-1.         -1.         -1.         -0.37381078 -0.82901325\n",
      "   -0.99942305 -1.         -1.         -1.          0.02054516\n",
      "   -1.         -1.         -1.        ]\n",
      "  [-1.         -1.         -1.         -0.59223044 -0.82901325\n",
      "   -0.99942305 -1.         -1.         -1.          0.02054516\n",
      "   -1.         -0.9998342  -1.        ]\n",
      "  [-0.999185   -1.         -1.         -0.47264799 -0.82901325\n",
      "   -1.         -1.         -1.         -1.          0.02054516\n",
      "   -1.         -1.         -1.        ]\n",
      "  [-1.         -1.         -0.99928006 -0.5067389  -0.82901325\n",
      "   -1.         -1.         -1.         -1.          0.02054516\n",
      "   -1.         -1.         -1.        ]\n",
      "  [-1.         -1.         -1.         -0.58417019 -0.82901325\n",
      "   -1.         -1.         -1.         -1.          0.02054516\n",
      "   -1.         -1.         -1.        ]\n",
      "  [-1.         -1.         -0.99856012 -0.53448732 -0.82901325\n",
      "   -0.99971152 -1.         -0.99969498 -1.          0.02054516\n",
      "   -1.         -1.         -0.99977098]\n",
      "  [-1.         -1.         -1.         -0.64270613 -0.82867264\n",
      "   -1.         -1.         -1.         -1.          0.02054516\n",
      "   -1.         -1.         -1.        ]\n",
      "  [-1.         -1.         -1.         -0.60161205 -0.82901325\n",
      "   -0.99971152 -1.         -1.         -1.          0.02064687\n",
      "   -1.         -1.         -1.        ]\n",
      "  [-1.         -1.         -1.         -0.66635835 -0.82901325\n",
      "   -1.         -1.         -1.         -1.          0.02054516\n",
      "   -1.         -1.         -0.99885492]\n",
      "  [-1.         -1.         -1.         -0.73150106 -0.82901325\n",
      "   -0.99942305 -1.         -1.         -1.          0.02054516\n",
      "   -1.         -0.99994473 -1.        ]\n",
      "  [-1.         -1.         -1.         -0.95071353 -0.82901325\n",
      "   -1.         -1.         -1.         -1.          0.02054516\n",
      "   -1.         -1.         -0.99977098]\n",
      "  [-1.         -1.         -1.          1.         -0.82901325\n",
      "   -1.         -1.         -1.         -1.          0.02054516\n",
      "   -1.         -0.99994473 -1.        ]\n",
      "  [-1.         -1.         -1.         -0.14600951 -0.82901325\n",
      "   -1.         -1.         -1.         -1.          0.02054516\n",
      "   -1.         -1.         -1.        ]\n",
      "  [-1.         -1.         -1.         -0.72846195 -0.82894513\n",
      "   -1.         -1.         -1.         -1.          0.02054516\n",
      "   -1.         -1.         -1.        ]\n",
      "  [-1.         -1.         -1.         -0.72251586 -0.82901325\n",
      "   -1.         -1.         -1.         -1.          0.02054516\n",
      "   -1.         -1.         -1.        ]\n",
      "  [-1.         -1.         -0.99928006 -0.74616808 -0.82901325\n",
      "   -1.         -1.         -1.         -1.          0.02054516\n",
      "   -1.         -1.         -1.        ]\n",
      "  [-1.         -1.         -1.         -0.76519556 -0.82901325\n",
      "   -1.         -1.         -1.         -1.          0.02054516\n",
      "   -1.         -1.         -1.        ]\n",
      "  [-1.         -1.         -1.         -0.94608879 -0.82901325\n",
      "   -1.         -0.99874451 -1.         -1.          0.02054516\n",
      "   -1.         -1.         -1.        ]\n",
      "  [-1.         -1.         -1.         -0.93948203 -0.82901325\n",
      "   -1.         -0.99811676 -1.         -1.          0.02054516\n",
      "   -1.         -1.         -1.        ]\n",
      "  [-1.         -1.         -0.99928006 -0.9375     -0.82901325\n",
      "   -1.         -0.9918393  -0.9948147  -1.          0.02054516\n",
      "   -1.         -0.99988947 -1.        ]\n",
      "  [-1.         -1.         -1.         -0.80827167 -0.82901325\n",
      "   -1.         -0.99372254 -0.98718926 -1.          0.02054516\n",
      "   -1.         -1.         -1.        ]\n",
      "  [-1.         -1.         -1.         -0.99722516 -0.82901325\n",
      "   -1.         -0.9905838  -0.97163337 -1.          0.02054516\n",
      "   -1.         -1.         -1.        ]]] => [[-1.         -1.         -0.99928006 -0.97106237 -0.82901325 -1.\n",
      "  -0.98870056 -0.9774287  -1.          0.02054516 -1.         -0.99801039\n",
      "  -0.99908393]]\n"
     ]
    }
   ],
   "source": [
    "# univariate one step problem\n",
    "from keras.preprocessing.sequence import TimeseriesGenerator\n",
    "\n",
    "# On definit generator\n",
    "n_input = 32\n",
    "#generator = TimeseriesGenerator(np.matrix(Xscl.transpose()), np.matrix(X.transpose()), length=n_input, batch_size=1)\n",
    "generator = TimeseriesGenerator(Xscl,Xscl, length=n_input, batch_size=1)\n",
    "\n",
    "# Nombre d'echantillon\n",
    "print('Samples: %d' % len(generator))\n",
    "\n",
    "# On affiche 2 echantillons Xi et le Yi de chaque.\n",
    "for i in range(1):\n",
    "    x, y = generator[i]\n",
    "    print('%s => %s' % (x, y))"
   ]
  },
  {
   "cell_type": "code",
   "execution_count": 135,
   "metadata": {},
   "outputs": [
    {
     "name": "stdout",
     "output_type": "stream",
     "text": [
      "(1, 32, 13)\n",
      "(1, 13)\n"
     ]
    }
   ],
   "source": [
    "print(generator[0][0].shape)\n",
    "print(generator[0][1].shape)"
   ]
  },
  {
   "cell_type": "code",
   "execution_count": 136,
   "metadata": {},
   "outputs": [
    {
     "data": {
      "text/plain": [
       "(76, 1, 32, 13)"
      ]
     },
     "execution_count": 136,
     "metadata": {},
     "output_type": "execute_result"
    }
   ],
   "source": [
    "X1 = []\n",
    "Y1 = []\n",
    "\n",
    "for i in range(len(generator)):\n",
    "    x, y = generator[i]\n",
    "    X1.append(x)\n",
    "    Y1.append(y) \n",
    "\n",
    "X1 =np.array(X1)\n",
    "Y1 =np.array(Y1)\n",
    "X1.shape"
   ]
  },
  {
   "cell_type": "code",
   "execution_count": 137,
   "metadata": {},
   "outputs": [
    {
     "name": "stdout",
     "output_type": "stream",
     "text": [
      "(76, 32, 13)\n",
      "(76, 13)\n"
     ]
    }
   ],
   "source": [
    "X11 = np.reshape(X1, (X1.shape[0],n_input,X1.shape[-1]))\n",
    "Y11 = np.squeeze(Y1)\n",
    "print(X11.shape)\n",
    "print(Y11.shape)"
   ]
  },
  {
   "cell_type": "markdown",
   "metadata": {},
   "source": [
    "### Train Test Split"
   ]
  },
  {
   "cell_type": "code",
   "execution_count": 138,
   "metadata": {},
   "outputs": [
    {
     "name": "stdout",
     "output_type": "stream",
     "text": [
      "xtrain: (50, 32, 13)\n",
      "xtest: (26, 32, 13)\n",
      "ytrain: (50, 13)\n",
      "ytest: (26, 13)\n"
     ]
    }
   ],
   "source": [
    "from sklearn.model_selection import train_test_split\n",
    "xtrain,xtest,ytrain,ytest = train_test_split(X11, Y11, test_size=0.33)\n",
    "print('xtrain:',xtrain.shape)\n",
    "print('xtest:',xtest.shape)\n",
    "print('ytrain:',ytrain.shape)\n",
    "print('ytest:',ytest.shape)"
   ]
  },
  {
   "cell_type": "code",
   "execution_count": 139,
   "metadata": {},
   "outputs": [],
   "source": [
    "def lstm_model2(outp, inpt = (10,13)):\n",
    "    ''' Fonction qui renvoie un modele LSTM sur une representation sequentielle\n",
    "    des data avec en entree: shape (*,inpt) et en sortie: shape (*, outp) '''\n",
    "\n",
    "    # en entree du neuronne on aura shape (*,inpt)\n",
    "    x = Input(shape = inpt) #en input on a (*,nb_features,nb_pays)\n",
    "\n",
    "    h = LSTM(64, activation = 'tanh')(x) #activation par default est tanh\n",
    "    #shape de sortie (*,64)\n",
    "    h = Dense(64)(h)\n",
    "    #h  = Dense (32)(h)\n",
    "    h = Dropout(0.25)(h)\n",
    "    y = Dense(outp, activation='softmax')(h) #to have the right output size\n",
    "\n",
    "    return Model(inputs=x, outputs=y)"
   ]
  },
  {
   "cell_type": "code",
   "execution_count": 140,
   "metadata": {},
   "outputs": [
    {
     "name": "stdout",
     "output_type": "stream",
     "text": [
      "Model: \"model_4\"\n",
      "_________________________________________________________________\n",
      "Layer (type)                 Output Shape              Param #   \n",
      "=================================================================\n",
      "input_4 (InputLayer)         (None, 32, 13)            0         \n",
      "_________________________________________________________________\n",
      "lstm_4 (LSTM)                (None, 64)                19968     \n",
      "_________________________________________________________________\n",
      "dense_7 (Dense)              (None, 64)                4160      \n",
      "_________________________________________________________________\n",
      "dropout_4 (Dropout)          (None, 64)                0         \n",
      "_________________________________________________________________\n",
      "dense_8 (Dense)              (None, 13)                845       \n",
      "=================================================================\n",
      "Total params: 24,973\n",
      "Trainable params: 24,973\n",
      "Non-trainable params: 0\n",
      "_________________________________________________________________\n"
     ]
    }
   ],
   "source": [
    "inpt = (xtrain.shape[1],xtrain.shape[2])\n",
    "outp = ytrain.shape[1]\n",
    "model1 = lstm_model1(outp,inpt)\n",
    "model1.summary()"
   ]
  },
  {
   "cell_type": "code",
   "execution_count": 141,
   "metadata": {},
   "outputs": [
    {
     "name": "stderr",
     "output_type": "stream",
     "text": [
      "/Library/Frameworks/Python.framework/Versions/3.7/lib/python3.7/site-packages/keras/callbacks/callbacks.py:846: RuntimeWarning: Early stopping conditioned on metric `val_loss` which is not available. Available metrics are: loss,accuracy\n",
      "  (self.monitor, ','.join(list(logs.keys()))), RuntimeWarning\n"
     ]
    },
    {
     "data": {
      "text/plain": [
       "<keras.callbacks.callbacks.History at 0x141ef82d0>"
      ]
     },
     "execution_count": 141,
     "metadata": {},
     "output_type": "execute_result"
    }
   ],
   "source": [
    "#Compilation\n",
    "model1.compile(loss='mse', optimizer='adam', metrics=['accuracy'])\n",
    "\n",
    "#Fit\n",
    "callback_2 = EarlyStopping(monitor='val_loss', min_delta=0.005, patience=5)\n",
    "model1.fit(xtrain,ytrain, callbacks = [callback_2], epochs= 200,verbose=0) #mettre verbose=0 pour ne pas afficher"
   ]
  },
  {
   "cell_type": "markdown",
   "metadata": {},
   "source": [
    "### Prediction"
   ]
  },
  {
   "cell_type": "code",
   "execution_count": 142,
   "metadata": {},
   "outputs": [
    {
     "data": {
      "text/plain": [
       "array([[5.3000e+02, 1.8320e+03, 1.3550e+03, 9.3000e+01, 4.9710e+03,\n",
       "        1.2870e+03, 1.5740e+03, 2.9720e+03, 2.7740e+03, 2.4420e+03,\n",
       "        4.0620e+03, 2.7051e+04, 5.2750e+03],\n",
       "       [1.6610e+03, 1.3040e+03, 5.4100e+02, 3.2000e+01, 4.2980e+03,\n",
       "        4.9330e+03, 2.5600e+03, 4.8050e+03, 5.8200e+02, 6.9690e+03,\n",
       "        3.0130e+03, 3.3283e+04, 3.7880e+03],\n",
       "       [6.6000e+02, 7.5020e+03, 1.5920e+03, 1.2000e+01, 7.5600e+02,\n",
       "        1.4700e+03, 9.8300e+02, 1.8720e+03, 7.0990e+03, 5.1800e+02,\n",
       "        2.6150e+03, 2.9515e+04, 6.0400e+03]])"
      ]
     },
     "execution_count": 142,
     "metadata": {},
     "output_type": "execute_result"
    }
   ],
   "source": [
    "# make a prediction\n",
    "p = model1.predict(xtest)\n",
    "\n",
    "#on reshape le xtest\n",
    "#xtest = xtest.reshape((xtest.shape[0], xtest.shape[2]))\n",
    "\n",
    "# invert scaling for forecast\n",
    "inv_p = scaler.inverse_transform(p)\n",
    "inv_p[:3]\n",
    "\n",
    "# invert scaling for actual\n",
    "#ytest = ytest.reshape((len(ytest), 13))\n",
    "inv_y = scaler.inverse_transform(ytest)\n",
    "inv_y[:3]"
   ]
  },
  {
   "cell_type": "code",
   "execution_count": 143,
   "metadata": {},
   "outputs": [
    {
     "name": "stdout",
     "output_type": "stream",
     "text": [
      "Test RMSE: 5415.684\n"
     ]
    }
   ],
   "source": [
    "from sklearn.metrics import mean_squared_error,auc\n",
    "# calculate RMSE\n",
    "rmse = np.sqrt(mean_squared_error(inv_y, inv_p))\n",
    "print('Test RMSE: %.3f' % rmse)\n",
    "\n",
    "#for i in range(len(inv_y)):\n",
    "    #p_acc = auc(inv_y[i],inv_p[i])\n",
    "    #print('acc:',p_acc)"
   ]
  },
  {
   "cell_type": "markdown",
   "metadata": {},
   "source": [
    "### Plot prediction"
   ]
  },
  {
   "cell_type": "code",
   "execution_count": 144,
   "metadata": {},
   "outputs": [
    {
     "name": "stdout",
     "output_type": "stream",
     "text": [
      "(26, 13)\n"
     ]
    }
   ],
   "source": [
    "print(inv_p.shape)\n",
    "confirmed_daily.transpose().head()\n",
    "predict = np.zeros(confirmed_daily.transpose().shape)\n",
    "predict[:, :] = np.nan\n",
    "predict = pd.DataFrame(predict,index=confirmed_daily.transpose().index)"
   ]
  },
  {
   "cell_type": "code",
   "execution_count": 145,
   "metadata": {},
   "outputs": [
    {
     "data": {
      "text/html": [
       "<div>\n",
       "<style scoped>\n",
       "    .dataframe tbody tr th:only-of-type {\n",
       "        vertical-align: middle;\n",
       "    }\n",
       "\n",
       "    .dataframe tbody tr th {\n",
       "        vertical-align: top;\n",
       "    }\n",
       "\n",
       "    .dataframe thead th {\n",
       "        text-align: right;\n",
       "    }\n",
       "</style>\n",
       "<table border=\"1\" class=\"dataframe\">\n",
       "  <thead>\n",
       "    <tr style=\"text-align: right;\">\n",
       "      <th></th>\n",
       "      <th>0</th>\n",
       "      <th>1</th>\n",
       "      <th>2</th>\n",
       "      <th>3</th>\n",
       "      <th>4</th>\n",
       "      <th>5</th>\n",
       "      <th>6</th>\n",
       "      <th>7</th>\n",
       "      <th>8</th>\n",
       "      <th>9</th>\n",
       "      <th>10</th>\n",
       "      <th>11</th>\n",
       "      <th>12</th>\n",
       "    </tr>\n",
       "  </thead>\n",
       "  <tbody>\n",
       "    <tr>\n",
       "      <td>2020-01-23</td>\n",
       "      <td>NaN</td>\n",
       "      <td>NaN</td>\n",
       "      <td>NaN</td>\n",
       "      <td>NaN</td>\n",
       "      <td>NaN</td>\n",
       "      <td>NaN</td>\n",
       "      <td>NaN</td>\n",
       "      <td>NaN</td>\n",
       "      <td>NaN</td>\n",
       "      <td>NaN</td>\n",
       "      <td>NaN</td>\n",
       "      <td>NaN</td>\n",
       "      <td>NaN</td>\n",
       "    </tr>\n",
       "    <tr>\n",
       "      <td>2020-01-24</td>\n",
       "      <td>NaN</td>\n",
       "      <td>NaN</td>\n",
       "      <td>NaN</td>\n",
       "      <td>NaN</td>\n",
       "      <td>NaN</td>\n",
       "      <td>NaN</td>\n",
       "      <td>NaN</td>\n",
       "      <td>NaN</td>\n",
       "      <td>NaN</td>\n",
       "      <td>NaN</td>\n",
       "      <td>NaN</td>\n",
       "      <td>NaN</td>\n",
       "      <td>NaN</td>\n",
       "    </tr>\n",
       "    <tr>\n",
       "      <td>2020-01-25</td>\n",
       "      <td>NaN</td>\n",
       "      <td>NaN</td>\n",
       "      <td>NaN</td>\n",
       "      <td>NaN</td>\n",
       "      <td>NaN</td>\n",
       "      <td>NaN</td>\n",
       "      <td>NaN</td>\n",
       "      <td>NaN</td>\n",
       "      <td>NaN</td>\n",
       "      <td>NaN</td>\n",
       "      <td>NaN</td>\n",
       "      <td>NaN</td>\n",
       "      <td>NaN</td>\n",
       "    </tr>\n",
       "    <tr>\n",
       "      <td>2020-01-26</td>\n",
       "      <td>NaN</td>\n",
       "      <td>NaN</td>\n",
       "      <td>NaN</td>\n",
       "      <td>NaN</td>\n",
       "      <td>NaN</td>\n",
       "      <td>NaN</td>\n",
       "      <td>NaN</td>\n",
       "      <td>NaN</td>\n",
       "      <td>NaN</td>\n",
       "      <td>NaN</td>\n",
       "      <td>NaN</td>\n",
       "      <td>NaN</td>\n",
       "      <td>NaN</td>\n",
       "    </tr>\n",
       "    <tr>\n",
       "      <td>2020-01-27</td>\n",
       "      <td>NaN</td>\n",
       "      <td>NaN</td>\n",
       "      <td>NaN</td>\n",
       "      <td>NaN</td>\n",
       "      <td>NaN</td>\n",
       "      <td>NaN</td>\n",
       "      <td>NaN</td>\n",
       "      <td>NaN</td>\n",
       "      <td>NaN</td>\n",
       "      <td>NaN</td>\n",
       "      <td>NaN</td>\n",
       "      <td>NaN</td>\n",
       "      <td>NaN</td>\n",
       "    </tr>\n",
       "  </tbody>\n",
       "</table>\n",
       "</div>"
      ],
      "text/plain": [
       "             0   1   2   3   4   5   6   7   8   9  10  11  12\n",
       "2020-01-23 NaN NaN NaN NaN NaN NaN NaN NaN NaN NaN NaN NaN NaN\n",
       "2020-01-24 NaN NaN NaN NaN NaN NaN NaN NaN NaN NaN NaN NaN NaN\n",
       "2020-01-25 NaN NaN NaN NaN NaN NaN NaN NaN NaN NaN NaN NaN NaN\n",
       "2020-01-26 NaN NaN NaN NaN NaN NaN NaN NaN NaN NaN NaN NaN NaN\n",
       "2020-01-27 NaN NaN NaN NaN NaN NaN NaN NaN NaN NaN NaN NaN NaN"
      ]
     },
     "execution_count": 145,
     "metadata": {},
     "output_type": "execute_result"
    }
   ],
   "source": [
    "date_pred = inv_p.shape[0]\n",
    "date_reel_last = date_pred + 1\n",
    "predict.iloc[-date_reel_last,:] = confirmed_daily.transpose().iloc[-date_reel_last,:]\n",
    "predict.iloc[-date_pred:,:] = inv_p\n",
    "predict.head(5)"
   ]
  },
  {
   "cell_type": "code",
   "execution_count": 146,
   "metadata": {},
   "outputs": [
    {
     "data": {
      "image/png": "[encoded data removed]",
      "text/plain": [
       "<Figure size 1440x720 with 1 Axes>"
      ]
     },
     "metadata": {
      "needs_background": "light"
     },
     "output_type": "display_data"
    }
   ],
   "source": [
    "plt.figure(figsize=(20,10))\n",
    "plt.plot(confirmed_daily.transpose().sum(axis=1),color = 'blue',label='reel')\n",
    "plt.plot(predict.iloc[-date_reel_last:,:].sum(axis=1),color='red',label='pred')\n",
    "plt.legend()\n",
    "plt.title(\"Evolution et prediction du nombre de cas confirmés\")\n",
    "plt.show()"
   ]
  },
  {
   "cell_type": "code",
   "execution_count": null,
   "metadata": {},
   "outputs": [],
   "source": []
  }
 ],
 "metadata": {
  "colab": {
   "collapsed_sections": [],
   "name": "Piste_for_esgf_exam.ipynb",
   "provenance": [],
   "toc_visible": true
  },
  "kernelspec": {
   "display_name": "Python 3",
   "language": "python",
   "name": "python3"
  },
  "language_info": {
   "codemirror_mode": {
    "name": "ipython",
    "version": 3
   },
   "file_extension": ".py",
   "mimetype": "text/x-python",
   "name": "python",
   "nbconvert_exporter": "python",
   "pygments_lexer": "ipython3",
   "version": "3.7.4"
  }
 },
 "nbformat": 4,
 "nbformat_minor": 1
}
